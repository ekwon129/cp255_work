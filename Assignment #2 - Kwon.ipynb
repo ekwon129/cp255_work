{
 "cells": [
  {
   "cell_type": "code",
   "execution_count": 46,
   "metadata": {},
   "outputs": [],
   "source": [
    "import pandas as pd\n",
    "import matplotlib.pyplot as plt\n",
    "import numpy as np"
   ]
  },
  {
   "cell_type": "code",
   "execution_count": 47,
   "metadata": {},
   "outputs": [],
   "source": [
    "%matplotlib inline"
   ]
  },
  {
   "cell_type": "code",
   "execution_count": 48,
   "metadata": {},
   "outputs": [],
   "source": [
    "seoul = pd.read_csv(\"Seoul_Data.csv\")"
   ]
  },
  {
   "cell_type": "code",
   "execution_count": 49,
   "metadata": {},
   "outputs": [],
   "source": [
    "#This is district level data for the city of Seoul. \n",
    "#There are twenty-six districts that make up Seoul. "
   ]
  },
  {
   "cell_type": "code",
   "execution_count": 50,
   "metadata": {},
   "outputs": [],
   "source": [
    "seoul=seoul.drop(range(26,1000))"
   ]
  },
  {
   "cell_type": "code",
   "execution_count": 51,
   "metadata": {},
   "outputs": [],
   "source": [
    "seoul = seoul.drop(columns=['Unnamed: 66','Unnamed: 67','Unnamed: 68','Unnamed: 69','Unnamed: 70'])\n"
   ]
  },
  {
   "cell_type": "code",
   "execution_count": 52,
   "metadata": {},
   "outputs": [],
   "source": [
    "pd.set_option('display.max_columns', None)"
   ]
  },
  {
   "cell_type": "code",
   "execution_count": 53,
   "metadata": {},
   "outputs": [],
   "source": [
    "seoul;"
   ]
  },
  {
   "cell_type": "markdown",
   "metadata": {},
   "source": [
    "#I chose four districts which are considered sites of rapid neighborhood change currently within Seoul and compared them to the city of Seoul overall. "
   ]
  },
  {
   "cell_type": "markdown",
   "metadata": {},
   "source": [
    "# Number of Retail Stores in Seoul and Districts of Interests 2015-2019"
   ]
  },
  {
   "cell_type": "code",
   "execution_count": 55,
   "metadata": {
    "scrolled": true
   },
   "outputs": [],
   "source": [
    "seoul.rename(columns={'Q2-15 Total Number of Stores':'2015 Number of Stores'});"
   ]
  },
  {
   "cell_type": "code",
   "execution_count": 56,
   "metadata": {},
   "outputs": [],
   "source": [
    "districts_int = seoul.loc[[0,4,14,16,23],'Districts':'Q2-19 General Stores']"
   ]
  },
  {
   "cell_type": "code",
   "execution_count": 57,
   "metadata": {},
   "outputs": [
    {
     "data": {
      "text/plain": [
       "0     Seoul (Overall)\n",
       "4        Seongdong-gu\n",
       "14            Mapo-gu\n",
       "16         Gangseo-gu\n",
       "23         Gangnam-gu\n",
       "Name: Districts, dtype: object"
      ]
     },
     "execution_count": 57,
     "metadata": {},
     "output_type": "execute_result"
    }
   ],
   "source": [
    "districts_int[\"Districts\"]"
   ]
  },
  {
   "cell_type": "code",
   "execution_count": 58,
   "metadata": {},
   "outputs": [],
   "source": [
    "districts_int.T;"
   ]
  },
  {
   "cell_type": "code",
   "execution_count": 59,
   "metadata": {},
   "outputs": [],
   "source": [
    "d_i = districts_int.T.drop(\"Districts\")"
   ]
  },
  {
   "cell_type": "code",
   "execution_count": 60,
   "metadata": {},
   "outputs": [],
   "source": [
    "d_i.reset_index(inplace = True)"
   ]
  },
  {
   "cell_type": "code",
   "execution_count": 61,
   "metadata": {},
   "outputs": [
    {
     "data": {
      "text/html": [
       "<div>\n",
       "<style scoped>\n",
       "    .dataframe tbody tr th:only-of-type {\n",
       "        vertical-align: middle;\n",
       "    }\n",
       "\n",
       "    .dataframe tbody tr th {\n",
       "        vertical-align: top;\n",
       "    }\n",
       "\n",
       "    .dataframe thead th {\n",
       "        text-align: right;\n",
       "    }\n",
       "</style>\n",
       "<table border=\"1\" class=\"dataframe\">\n",
       "  <thead>\n",
       "    <tr style=\"text-align: right;\">\n",
       "      <th></th>\n",
       "      <th>Year</th>\n",
       "      <th>0</th>\n",
       "      <th>4</th>\n",
       "      <th>14</th>\n",
       "      <th>16</th>\n",
       "      <th>23</th>\n",
       "    </tr>\n",
       "  </thead>\n",
       "  <tbody>\n",
       "    <tr>\n",
       "      <td>0</td>\n",
       "      <td>2015</td>\n",
       "      <td>572646.0</td>\n",
       "      <td>15712.0</td>\n",
       "      <td>25764.0</td>\n",
       "      <td>23670.0</td>\n",
       "      <td>53775.0</td>\n",
       "    </tr>\n",
       "    <tr>\n",
       "      <td>3</td>\n",
       "      <td>2016</td>\n",
       "      <td>576804.0</td>\n",
       "      <td>15953.0</td>\n",
       "      <td>26601.0</td>\n",
       "      <td>24046.0</td>\n",
       "      <td>54264.0</td>\n",
       "    </tr>\n",
       "    <tr>\n",
       "      <td>6</td>\n",
       "      <td>2017</td>\n",
       "      <td>581955.0</td>\n",
       "      <td>16422.0</td>\n",
       "      <td>27464.0</td>\n",
       "      <td>24624.0</td>\n",
       "      <td>55290.0</td>\n",
       "    </tr>\n",
       "    <tr>\n",
       "      <td>9</td>\n",
       "      <td>2018</td>\n",
       "      <td>572956.0</td>\n",
       "      <td>16505.0</td>\n",
       "      <td>27506.0</td>\n",
       "      <td>24992.0</td>\n",
       "      <td>54466.0</td>\n",
       "    </tr>\n",
       "    <tr>\n",
       "      <td>12</td>\n",
       "      <td>2019</td>\n",
       "      <td>563435.0</td>\n",
       "      <td>16417.0</td>\n",
       "      <td>27504.0</td>\n",
       "      <td>24987.0</td>\n",
       "      <td>53871.0</td>\n",
       "    </tr>\n",
       "  </tbody>\n",
       "</table>\n",
       "</div>"
      ],
      "text/plain": [
       "    Year         0        4       14       16       23\n",
       "0   2015  572646.0  15712.0  25764.0  23670.0  53775.0\n",
       "3   2016  576804.0  15953.0  26601.0  24046.0  54264.0\n",
       "6   2017  581955.0  16422.0  27464.0  24624.0  55290.0\n",
       "9   2018  572956.0  16505.0  27506.0  24992.0  54466.0\n",
       "12  2019  563435.0  16417.0  27504.0  24987.0  53871.0"
      ]
     },
     "execution_count": 61,
     "metadata": {},
     "output_type": "execute_result"
    }
   ],
   "source": [
    "# once we have the d_i table, we can use for loops to create total_num and franchise_store tables and then subplots \n",
    "# probably will have to save them first before plotting all\n",
    "# can simplify the replace function here\n",
    "\n",
    "total_stores = d_i.iloc[[0, 3, 6, 9, 12], :]\n",
    "total_stores = total_stores.rename(columns = {\"index\":\"Year\"})\n",
    "total_stores = total_stores.replace(\n",
    "    total_stores[\"Year\"].values, [\"2015\", \"2016\", \"2017\", \"2018\", \"2019\"]\n",
    ")\n",
    "total_stores"
   ]
  },
  {
   "cell_type": "code",
   "execution_count": 62,
   "metadata": {},
   "outputs": [
    {
     "data": {
      "text/html": [
       "<div>\n",
       "<style scoped>\n",
       "    .dataframe tbody tr th:only-of-type {\n",
       "        vertical-align: middle;\n",
       "    }\n",
       "\n",
       "    .dataframe tbody tr th {\n",
       "        vertical-align: top;\n",
       "    }\n",
       "\n",
       "    .dataframe thead th {\n",
       "        text-align: right;\n",
       "    }\n",
       "</style>\n",
       "<table border=\"1\" class=\"dataframe\">\n",
       "  <thead>\n",
       "    <tr style=\"text-align: right;\">\n",
       "      <th></th>\n",
       "      <th>Year</th>\n",
       "      <th>0</th>\n",
       "      <th>4</th>\n",
       "      <th>14</th>\n",
       "      <th>16</th>\n",
       "      <th>23</th>\n",
       "    </tr>\n",
       "  </thead>\n",
       "  <tbody>\n",
       "    <tr>\n",
       "      <td>1</td>\n",
       "      <td>2015</td>\n",
       "      <td>39103.0</td>\n",
       "      <td>1051.0</td>\n",
       "      <td>2017.0</td>\n",
       "      <td>1866.0</td>\n",
       "      <td>3795.0</td>\n",
       "    </tr>\n",
       "    <tr>\n",
       "      <td>4</td>\n",
       "      <td>2016</td>\n",
       "      <td>40746.0</td>\n",
       "      <td>1108.0</td>\n",
       "      <td>2126.0</td>\n",
       "      <td>1955.0</td>\n",
       "      <td>3891.0</td>\n",
       "    </tr>\n",
       "    <tr>\n",
       "      <td>7</td>\n",
       "      <td>2017</td>\n",
       "      <td>42004.0</td>\n",
       "      <td>1159.0</td>\n",
       "      <td>2230.0</td>\n",
       "      <td>2126.0</td>\n",
       "      <td>3923.0</td>\n",
       "    </tr>\n",
       "    <tr>\n",
       "      <td>10</td>\n",
       "      <td>2018</td>\n",
       "      <td>41731.0</td>\n",
       "      <td>1187.0</td>\n",
       "      <td>2190.0</td>\n",
       "      <td>2279.0</td>\n",
       "      <td>3845.0</td>\n",
       "    </tr>\n",
       "    <tr>\n",
       "      <td>13</td>\n",
       "      <td>2019</td>\n",
       "      <td>40773.0</td>\n",
       "      <td>1174.0</td>\n",
       "      <td>2118.0</td>\n",
       "      <td>2253.0</td>\n",
       "      <td>3737.0</td>\n",
       "    </tr>\n",
       "  </tbody>\n",
       "</table>\n",
       "</div>"
      ],
      "text/plain": [
       "    Year        0       4      14      16      23\n",
       "1   2015  39103.0  1051.0  2017.0  1866.0  3795.0\n",
       "4   2016  40746.0  1108.0  2126.0  1955.0  3891.0\n",
       "7   2017  42004.0  1159.0  2230.0  2126.0  3923.0\n",
       "10  2018  41731.0  1187.0  2190.0  2279.0  3845.0\n",
       "13  2019  40773.0  1174.0  2118.0  2253.0  3737.0"
      ]
     },
     "execution_count": 62,
     "metadata": {},
     "output_type": "execute_result"
    }
   ],
   "source": [
    "franchise_stores = d_i.iloc[[1, 4, 7, 10, 13], :]\n",
    "franchise_stores = franchise_stores.rename(columns = {\"index\":\"Year\"})\n",
    "franchise_stores = franchise_stores.replace(franchise_stores[\"Year\"].values, [\"2015\", \"2016\", \"2017\", \"2018\", \"2019\"])\n",
    "\n",
    "franchise_stores "
   ]
  },
  {
   "cell_type": "markdown",
   "metadata": {},
   "source": [
    "## Charts below focus on the City of Seoul and the the following districts within Seoul: \n",
    "## Seongdong-gu, Mapo-gu, Gangseo-gu, Gangnam-gu"
   ]
  },
  {
   "cell_type": "markdown",
   "metadata": {},
   "source": [
    "# Bar Charts Showing Percent Change of Total Number of Retail Stores From 2015 to 2019"
   ]
  },
  {
   "cell_type": "code",
   "execution_count": 74,
   "metadata": {},
   "outputs": [
    {
     "data": {
      "text/html": [
       "<div>\n",
       "<style scoped>\n",
       "    .dataframe tbody tr th:only-of-type {\n",
       "        vertical-align: middle;\n",
       "    }\n",
       "\n",
       "    .dataframe tbody tr th {\n",
       "        vertical-align: top;\n",
       "    }\n",
       "\n",
       "    .dataframe thead th {\n",
       "        text-align: right;\n",
       "    }\n",
       "</style>\n",
       "<table border=\"1\" class=\"dataframe\">\n",
       "  <thead>\n",
       "    <tr style=\"text-align: right;\">\n",
       "      <th></th>\n",
       "      <th>Year</th>\n",
       "      <th>0</th>\n",
       "      <th>4</th>\n",
       "      <th>14</th>\n",
       "      <th>16</th>\n",
       "      <th>23</th>\n",
       "    </tr>\n",
       "  </thead>\n",
       "  <tbody>\n",
       "    <tr>\n",
       "      <td>0</td>\n",
       "      <td>2015</td>\n",
       "      <td>572646.0</td>\n",
       "      <td>15712.0</td>\n",
       "      <td>25764.0</td>\n",
       "      <td>23670.0</td>\n",
       "      <td>53775.0</td>\n",
       "    </tr>\n",
       "    <tr>\n",
       "      <td>3</td>\n",
       "      <td>2016</td>\n",
       "      <td>576804.0</td>\n",
       "      <td>15953.0</td>\n",
       "      <td>26601.0</td>\n",
       "      <td>24046.0</td>\n",
       "      <td>54264.0</td>\n",
       "    </tr>\n",
       "    <tr>\n",
       "      <td>6</td>\n",
       "      <td>2017</td>\n",
       "      <td>581955.0</td>\n",
       "      <td>16422.0</td>\n",
       "      <td>27464.0</td>\n",
       "      <td>24624.0</td>\n",
       "      <td>55290.0</td>\n",
       "    </tr>\n",
       "    <tr>\n",
       "      <td>9</td>\n",
       "      <td>2018</td>\n",
       "      <td>572956.0</td>\n",
       "      <td>16505.0</td>\n",
       "      <td>27506.0</td>\n",
       "      <td>24992.0</td>\n",
       "      <td>54466.0</td>\n",
       "    </tr>\n",
       "    <tr>\n",
       "      <td>12</td>\n",
       "      <td>2019</td>\n",
       "      <td>563435.0</td>\n",
       "      <td>16417.0</td>\n",
       "      <td>27504.0</td>\n",
       "      <td>24987.0</td>\n",
       "      <td>53871.0</td>\n",
       "    </tr>\n",
       "  </tbody>\n",
       "</table>\n",
       "</div>"
      ],
      "text/plain": [
       "    Year         0        4       14       16       23\n",
       "0   2015  572646.0  15712.0  25764.0  23670.0  53775.0\n",
       "3   2016  576804.0  15953.0  26601.0  24046.0  54264.0\n",
       "6   2017  581955.0  16422.0  27464.0  24624.0  55290.0\n",
       "9   2018  572956.0  16505.0  27506.0  24992.0  54466.0\n",
       "12  2019  563435.0  16417.0  27504.0  24987.0  53871.0"
      ]
     },
     "execution_count": 74,
     "metadata": {},
     "output_type": "execute_result"
    }
   ],
   "source": [
    "total_stores"
   ]
  },
  {
   "cell_type": "code",
   "execution_count": 75,
   "metadata": {},
   "outputs": [],
   "source": [
    "total_2015 = total_stores[total_stores[\"Year\"] == '2015'].iloc[:, 1:].values\n",
    "total_2019 = total_stores[total_stores[\"Year\"] == '2019'].iloc[:, 1:].values\n",
    "total_growth = (total_2019 - total_2015)/abs(total_2015)\n",
    "total_growth \n",
    "\n",
    "cities_total = pd.DataFrame(total_growth) # just the list of totals\n",
    "cities_total.columns = ['Seoul', 'Seongdong-gu', 'Mapo-gu', 'Gangseo-gu', 'Gangnam-gu']\n",
    "c_t = cities_total.T"
   ]
  },
  {
   "cell_type": "code",
   "execution_count": 76,
   "metadata": {},
   "outputs": [],
   "source": [
    "franchise_2015 = franchise_stores[franchise_stores[\"Year\"] == '2015'].iloc[:, 1:].values\n",
    "franchise_2019 = franchise_stores[franchise_stores[\"Year\"] == '2019'].iloc[:, 1:].values\n",
    "franchise_growth = (franchise_2019 - franchise_2015)/abs(franchise_2015)\n",
    "franchise_growth \n",
    "\n",
    "cities_franchise = pd.DataFrame(franchise_growth) # just the list of totals\n",
    "cities_franchise.columns = ['Seoul', 'Seongdong-gu', 'Mapo-gu', 'Gangseo-gu', 'Gangnam-gu']\n",
    "c_f = cities_franchise.T"
   ]
  },
  {
   "cell_type": "code",
   "execution_count": 77,
   "metadata": {},
   "outputs": [
    {
     "data": {
      "text/plain": [
       "Text(0.5, 1.0, 'Percent Change from 2015 to 2019 for Franchise Stores')"
      ]
     },
     "execution_count": 77,
     "metadata": {},
     "output_type": "execute_result"
    },
    {
     "data": {
      "image/png": "[encoded data removed]",
      "text/plain": [
       "<Figure size 432x288 with 1 Axes>"
      ]
     },
     "metadata": {
      "needs_background": "light"
     },
     "output_type": "display_data"
    }
   ],
   "source": [
    "fig, ax = plt.subplots()\n",
    "plot = plt.bar(c_f.index, c_f[0])\n",
    "plot[0].set_color('red')\n",
    "plt.title(\"Percent Change from 2015 to 2019 for Franchise Stores\")\n",
    "#ax.annotate(franchise_growth[\"Seoul\"])"
   ]
  },
  {
   "cell_type": "code",
   "execution_count": 78,
   "metadata": {
    "scrolled": true
   },
   "outputs": [
    {
     "data": {
      "text/plain": [
       "Text(0.5, 1.0, 'Percent Change from 2015 to 2019 for Total Stores')"
      ]
     },
     "execution_count": 78,
     "metadata": {},
     "output_type": "execute_result"
    },
    {
     "data": {
      "image/png": "[encoded data removed]",
      "text/plain": [
       "<Figure size 432x288 with 1 Axes>"
      ]
     },
     "metadata": {
      "needs_background": "light"
     },
     "output_type": "display_data"
    }
   ],
   "source": [
    "#fig, ax = plt.subplots()\n",
    "plot2 = plt.bar(c_t.index, c_t[0])\n",
    "plot2[0].set_color('red')\n",
    "plt.title(\"Percent Change from 2015 to 2019 for Total Stores\")"
   ]
  },
  {
   "cell_type": "code",
   "execution_count": null,
   "metadata": {},
   "outputs": [],
   "source": [
    "#For the life of me, could not figure out how to get these bar charts annotated! "
   ]
  },
  {
   "cell_type": "markdown",
   "metadata": {},
   "source": [
    "# Area Charts of Changes in Residential and Work Population "
   ]
  },
  {
   "cell_type": "code",
   "execution_count": 63,
   "metadata": {},
   "outputs": [],
   "source": [
    "# Pull relevant data\n",
    "\n",
    "res_ha = seoul.loc[[0,4,14,16,23], ['Q2-15 Residential Population (persons per ha)', 'Q2-16 Residential Population (persons per ha)', 'Q2-17 Residential Population (persons per ha)', 'Q2-18 Residential Population (persons per ha)', 'Q2-19 Residential Population (persons per ha)']]\n",
    "\n",
    "work_ha = seoul.loc[[0,4,14,16,23], ['Q2-15 Work Population (persons per ha)', 'Q2-16 Work Population (persons per ha)', 'Q2-17 Work Population (persons per ha)', 'Q2-18 Work Population (persons per ha)', 'Q2-19 Work Population (persons per ha)']]\n",
    "\n"
   ]
  },
  {
   "cell_type": "code",
   "execution_count": 64,
   "metadata": {},
   "outputs": [],
   "source": [
    "res_ha.columns = [\"2015\", \"2016\", \"2017\", \"2018\", \"2019\"]\n",
    "work_ha.columns = [\"2015\", \"2016\", \"2017\", \"2018\", \"2019\"]"
   ]
  },
  {
   "cell_type": "code",
   "execution_count": null,
   "metadata": {},
   "outputs": [],
   "source": [
    "#data is in persons per hectare so gotta convert it to persons per square mile"
   ]
  },
  {
   "cell_type": "code",
   "execution_count": 65,
   "metadata": {},
   "outputs": [
    {
     "data": {
      "text/html": [
       "<div>\n",
       "<style scoped>\n",
       "    .dataframe tbody tr th:only-of-type {\n",
       "        vertical-align: middle;\n",
       "    }\n",
       "\n",
       "    .dataframe tbody tr th {\n",
       "        vertical-align: top;\n",
       "    }\n",
       "\n",
       "    .dataframe thead th {\n",
       "        text-align: right;\n",
       "    }\n",
       "</style>\n",
       "<table border=\"1\" class=\"dataframe\">\n",
       "  <thead>\n",
       "    <tr style=\"text-align: right;\">\n",
       "      <th></th>\n",
       "      <th>2015</th>\n",
       "      <th>2016</th>\n",
       "      <th>2017</th>\n",
       "      <th>2018</th>\n",
       "      <th>2019</th>\n",
       "    </tr>\n",
       "  </thead>\n",
       "  <tbody>\n",
       "    <tr>\n",
       "      <td>0</td>\n",
       "      <td>39108.849</td>\n",
       "      <td>37554.855</td>\n",
       "      <td>42216.837</td>\n",
       "      <td>41439.840</td>\n",
       "      <td>41439.840</td>\n",
       "    </tr>\n",
       "    <tr>\n",
       "      <td>4</td>\n",
       "      <td>40921.842</td>\n",
       "      <td>38849.850</td>\n",
       "      <td>47396.817</td>\n",
       "      <td>47655.816</td>\n",
       "      <td>48173.814</td>\n",
       "    </tr>\n",
       "    <tr>\n",
       "      <td>14</td>\n",
       "      <td>35741.862</td>\n",
       "      <td>34446.867</td>\n",
       "      <td>39885.846</td>\n",
       "      <td>39108.849</td>\n",
       "      <td>39108.849</td>\n",
       "    </tr>\n",
       "    <tr>\n",
       "      <td>16</td>\n",
       "      <td>31597.878</td>\n",
       "      <td>31338.879</td>\n",
       "      <td>36000.861</td>\n",
       "      <td>36000.861</td>\n",
       "      <td>35741.862</td>\n",
       "    </tr>\n",
       "    <tr>\n",
       "      <td>23</td>\n",
       "      <td>35482.863</td>\n",
       "      <td>33928.869</td>\n",
       "      <td>38072.853</td>\n",
       "      <td>36518.859</td>\n",
       "      <td>36777.858</td>\n",
       "    </tr>\n",
       "  </tbody>\n",
       "</table>\n",
       "</div>"
      ],
      "text/plain": [
       "         2015       2016       2017       2018       2019\n",
       "0   39108.849  37554.855  42216.837  41439.840  41439.840\n",
       "4   40921.842  38849.850  47396.817  47655.816  48173.814\n",
       "14  35741.862  34446.867  39885.846  39108.849  39108.849\n",
       "16  31597.878  31338.879  36000.861  36000.861  35741.862\n",
       "23  35482.863  33928.869  38072.853  36518.859  36777.858"
      ]
     },
     "execution_count": 65,
     "metadata": {},
     "output_type": "execute_result"
    }
   ],
   "source": [
    "res_sq = res_ha * 258.999\n",
    "res_sq"
   ]
  },
  {
   "cell_type": "code",
   "execution_count": 66,
   "metadata": {},
   "outputs": [
    {
     "data": {
      "text/html": [
       "<div>\n",
       "<style scoped>\n",
       "    .dataframe tbody tr th:only-of-type {\n",
       "        vertical-align: middle;\n",
       "    }\n",
       "\n",
       "    .dataframe tbody tr th {\n",
       "        vertical-align: top;\n",
       "    }\n",
       "\n",
       "    .dataframe thead th {\n",
       "        text-align: right;\n",
       "    }\n",
       "</style>\n",
       "<table border=\"1\" class=\"dataframe\">\n",
       "  <thead>\n",
       "    <tr style=\"text-align: right;\">\n",
       "      <th></th>\n",
       "      <th>2015</th>\n",
       "      <th>2016</th>\n",
       "      <th>2017</th>\n",
       "      <th>2018</th>\n",
       "      <th>2019</th>\n",
       "    </tr>\n",
       "  </thead>\n",
       "  <tbody>\n",
       "    <tr>\n",
       "      <td>0</td>\n",
       "      <td>19165.926</td>\n",
       "      <td>19942.923</td>\n",
       "      <td>20460.921</td>\n",
       "      <td>20978.919</td>\n",
       "      <td>21496.917</td>\n",
       "    </tr>\n",
       "    <tr>\n",
       "      <td>4</td>\n",
       "      <td>25122.903</td>\n",
       "      <td>26158.899</td>\n",
       "      <td>27971.892</td>\n",
       "      <td>29525.886</td>\n",
       "      <td>30043.884</td>\n",
       "    </tr>\n",
       "    <tr>\n",
       "      <td>14</td>\n",
       "      <td>21496.917</td>\n",
       "      <td>22014.915</td>\n",
       "      <td>23309.910</td>\n",
       "      <td>23309.910</td>\n",
       "      <td>23568.909</td>\n",
       "    </tr>\n",
       "    <tr>\n",
       "      <td>16</td>\n",
       "      <td>8028.969</td>\n",
       "      <td>10359.960</td>\n",
       "      <td>10618.959</td>\n",
       "      <td>11654.955</td>\n",
       "      <td>12172.953</td>\n",
       "    </tr>\n",
       "    <tr>\n",
       "      <td>23</td>\n",
       "      <td>52317.798</td>\n",
       "      <td>52317.798</td>\n",
       "      <td>52835.796</td>\n",
       "      <td>54648.789</td>\n",
       "      <td>55425.786</td>\n",
       "    </tr>\n",
       "  </tbody>\n",
       "</table>\n",
       "</div>"
      ],
      "text/plain": [
       "         2015       2016       2017       2018       2019\n",
       "0   19165.926  19942.923  20460.921  20978.919  21496.917\n",
       "4   25122.903  26158.899  27971.892  29525.886  30043.884\n",
       "14  21496.917  22014.915  23309.910  23309.910  23568.909\n",
       "16   8028.969  10359.960  10618.959  11654.955  12172.953\n",
       "23  52317.798  52317.798  52835.796  54648.789  55425.786"
      ]
     },
     "execution_count": 66,
     "metadata": {},
     "output_type": "execute_result"
    }
   ],
   "source": [
    "work_sq = work_ha * 258.999\n",
    "work_sq"
   ]
  },
  {
   "cell_type": "markdown",
   "metadata": {},
   "source": [
    "# Residential and Work Population Density in Seoul (persons per square mile)"
   ]
  },
  {
   "cell_type": "code",
   "execution_count": 67,
   "metadata": {},
   "outputs": [],
   "source": [
    "seoul_pop = pd.DataFrame({\n",
    "    \"Residential Pop\": res_sq.iloc[0, :].values,\n",
    "    \"Work Pop\": work_sq.iloc[0, :].values}, index = [\"2015\", \"2016\", \"2017\", \"2018\", \"2019\"])"
   ]
  },
  {
   "cell_type": "code",
   "execution_count": 68,
   "metadata": {
    "scrolled": true
   },
   "outputs": [
    {
     "data": {
      "text/plain": [
       "<matplotlib.axes._subplots.AxesSubplot at 0x114c6b4d0>"
      ]
     },
     "execution_count": 68,
     "metadata": {},
     "output_type": "execute_result"
    },
    {
     "data": {
      "image/png": "[encoded data removed]",
      "text/plain": [
       "<Figure size 432x288 with 1 Axes>"
      ]
     },
     "metadata": {
      "needs_background": "light"
     },
     "output_type": "display_data"
    }
   ],
   "source": [
    "seoul_pop.plot.area()"
   ]
  },
  {
   "cell_type": "markdown",
   "metadata": {},
   "source": [
    "# Residential and Work Population Density in Districts of Interest (persons per square mile)"
   ]
  },
  {
   "cell_type": "markdown",
   "metadata": {},
   "source": [
    "### couldn't figure out how to get these labeled -- they are in this order from left to right, top to bottom: \n",
    "### Seoungsu-dong, Mapo-Gu, Gangseo-Gu, Gangnam-Gu"
   ]
  },
  {
   "cell_type": "code",
   "execution_count": 69,
   "metadata": {
    "scrolled": true
   },
   "outputs": [
    {
     "name": "stderr",
     "output_type": "stream",
     "text": [
      "/opt/anaconda3/lib/python3.7/site-packages/ipykernel_launcher.py:2: UserWarning: Tight layout not applied. The left and right margins cannot be made large enough to accommodate all axes decorations. \n",
      "  \n"
     ]
    },
    {
     "data": {
      "text/plain": [
       "<matplotlib.axes._subplots.AxesSubplot at 0x115046710>"
      ]
     },
     "execution_count": 69,
     "metadata": {},
     "output_type": "execute_result"
    },
    {
     "data": {
      "image/png": "[encoded data removed]",
      "text/plain": [
       "<Figure size 432x288 with 4 Axes>"
      ]
     },
     "metadata": {
      "needs_background": "light"
     },
     "output_type": "display_data"
    }
   ],
   "source": [
    "fig, axes = plt.subplots(nrows=2, ncols=2)\n",
    "fig.tight_layout(pad = 200.0)\n",
    "Seongdong_pop.plot.area(ax = axes[0, 0])\n",
    "mapo_pop.plot.area(ax = axes[0, 1])\n",
    "gangseo_pop.plot.area(ax = axes[1, 0])\n",
    "Gangnam_pop.plot.area(ax = axes[1, 1])"
   ]
  },
  {
   "cell_type": "code",
   "execution_count": 70,
   "metadata": {},
   "outputs": [],
   "source": [
    "Seongdong_pop = pd.DataFrame({\n",
    "    \"Residential Pop\": res_sq.iloc[1, :].values,\n",
    "    \"Work Pop\": work_sq.iloc[1, :].values}, index = [\"2015\", \"2016\", \"2017\", \"2018\", \"2019\"])\n",
    "#Seongdong_pop.plot.area()"
   ]
  },
  {
   "cell_type": "code",
   "execution_count": 71,
   "metadata": {},
   "outputs": [],
   "source": [
    "mapo_pop = pd.DataFrame({\n",
    "    \"Residential Pop\": res_sq.iloc[2, :].values,\n",
    "    \"Work Pop\": work_sq.iloc[2, :].values}, index = [\"2015\", \"2016\", \"2017\", \"2018\", \"2019\"])\n"
   ]
  },
  {
   "cell_type": "code",
   "execution_count": 72,
   "metadata": {
    "scrolled": false
   },
   "outputs": [],
   "source": [
    "gangseo_pop = pd.DataFrame({\n",
    "    \"Residential Pop\": res_sq.iloc[3, :].values,\n",
    "    \"Work Pop\": work_sq.iloc[3, :].values}, index = [\"2015\", \"2016\", \"2017\", \"2018\", \"2019\"])\n",
    "#gangseo_pop.plot.area()"
   ]
  },
  {
   "cell_type": "code",
   "execution_count": 73,
   "metadata": {},
   "outputs": [],
   "source": [
    "Gangnam_pop = pd.DataFrame({\n",
    "    \"Residential Pop\": res_sq.iloc[4, :].values,\n",
    "    \"Work Pop\": work_sq.iloc[4, :].values}, index = [\"2015\", \"2016\", \"2017\", \"2018\", \"2019\"])\n"
   ]
  },
  {
   "cell_type": "markdown",
   "metadata": {},
   "source": [
    "# Percent Change In Monthly Rent from 2015 to 2019 for Retail Spaces"
   ]
  },
  {
   "cell_type": "code",
   "execution_count": 79,
   "metadata": {},
   "outputs": [],
   "source": [
    "rents = seoul.loc[[0,4,14,16,23], [\"Q2-15 Monthly rent per 3.3 meters squared (KRW)\", \n",
    "             \"Q2-19 Monthly rent per 3.3 meters squared (KRW)\"]]"
   ]
  },
  {
   "cell_type": "code",
   "execution_count": 80,
   "metadata": {},
   "outputs": [
    {
     "data": {
      "text/html": [
       "<div>\n",
       "<style scoped>\n",
       "    .dataframe tbody tr th:only-of-type {\n",
       "        vertical-align: middle;\n",
       "    }\n",
       "\n",
       "    .dataframe tbody tr th {\n",
       "        vertical-align: top;\n",
       "    }\n",
       "\n",
       "    .dataframe thead th {\n",
       "        text-align: right;\n",
       "    }\n",
       "</style>\n",
       "<table border=\"1\" class=\"dataframe\">\n",
       "  <thead>\n",
       "    <tr style=\"text-align: right;\">\n",
       "      <th></th>\n",
       "      <th>Q2-15 Monthly rent per 3.3 meters squared (KRW)</th>\n",
       "      <th>Q2-19 Monthly rent per 3.3 meters squared (KRW)</th>\n",
       "    </tr>\n",
       "  </thead>\n",
       "  <tbody>\n",
       "    <tr>\n",
       "      <td>0</td>\n",
       "      <td>95907.0</td>\n",
       "      <td>117827.0</td>\n",
       "    </tr>\n",
       "    <tr>\n",
       "      <td>4</td>\n",
       "      <td>79230.0</td>\n",
       "      <td>106550.0</td>\n",
       "    </tr>\n",
       "    <tr>\n",
       "      <td>14</td>\n",
       "      <td>107943.0</td>\n",
       "      <td>119977.0</td>\n",
       "    </tr>\n",
       "    <tr>\n",
       "      <td>16</td>\n",
       "      <td>78935.0</td>\n",
       "      <td>106206.0</td>\n",
       "    </tr>\n",
       "    <tr>\n",
       "      <td>23</td>\n",
       "      <td>113218.0</td>\n",
       "      <td>132143.0</td>\n",
       "    </tr>\n",
       "  </tbody>\n",
       "</table>\n",
       "</div>"
      ],
      "text/plain": [
       "    Q2-15 Monthly rent per 3.3 meters squared (KRW)  \\\n",
       "0                                           95907.0   \n",
       "4                                           79230.0   \n",
       "14                                         107943.0   \n",
       "16                                          78935.0   \n",
       "23                                         113218.0   \n",
       "\n",
       "    Q2-19 Monthly rent per 3.3 meters squared (KRW)  \n",
       "0                                          117827.0  \n",
       "4                                          106550.0  \n",
       "14                                         119977.0  \n",
       "16                                         106206.0  \n",
       "23                                         132143.0  "
      ]
     },
     "execution_count": 80,
     "metadata": {},
     "output_type": "execute_result"
    }
   ],
   "source": [
    "rents"
   ]
  },
  {
   "cell_type": "code",
   "execution_count": 81,
   "metadata": {},
   "outputs": [],
   "source": [
    "rent_2015 = rents.iloc[:, 0].values\n",
    "rent_2019 = rents.iloc[:, 1].values\n",
    "rent_change = (rent_2019 - rent_2015)/abs(rent_2015)\n",
    "r_c_t = rent_change.T"
   ]
  },
  {
   "cell_type": "code",
   "execution_count": 82,
   "metadata": {},
   "outputs": [
    {
     "data": {
      "text/plain": [
       "Text(0.5, 1.0, 'Percent Change In Monthly Rent')"
      ]
     },
     "execution_count": 82,
     "metadata": {},
     "output_type": "execute_result"
    },
    {
     "data": {
      "image/png": "[encoded data removed]",
      "text/plain": [
       "<Figure size 432x288 with 1 Axes>"
      ]
     },
     "metadata": {
      "needs_background": "light"
     },
     "output_type": "display_data"
    }
   ],
   "source": [
    "plot3 = plt.bar(['Seoul', 'Seongdong-gu', 'Mapo-gu', 'Gangseo-gu', 'Gangnam-gu'], r_c_t)\n",
    "plot3[0].set_color('red')\n",
    "plt.title(\"Percent Change In Monthly Rent\")"
   ]
  },
  {
   "cell_type": "markdown",
   "metadata": {},
   "source": [
    "# Archived"
   ]
  },
  {
   "cell_type": "code",
   "execution_count": 43,
   "metadata": {},
   "outputs": [],
   "source": [
    "# Make new percent change tables\n",
    "#total_pchange = pd.DataFrame()\n",
    "# total = total_stores.iloc[:, 1:6].pct_change()\n",
    "# total.index = [\"2015\", \"2016\", \"2017\", \"2018\", \"2019\"]\n",
    "# total.columns = ['Seoul', 'Seongdong-gu', 'Mapo-gu', 'Gangseo-gu', 'Gangnam-gu']\n",
    "# total"
   ]
  },
  {
   "cell_type": "code",
   "execution_count": 44,
   "metadata": {},
   "outputs": [],
   "source": [
    "# not what we wanted\n",
    "#subset = total.iloc[1:, :]['Seoul']\n",
    "#subset.plot(label = 'Seoul', color = 'black')\n",
    "#y = np.arange(min(subset.values), max(subset.values), 0.01)\n",
    "#plt.yticks(y)\n",
    "\n",
    "#subset1 = total.iloc[1:, :]['Mapo-gu']\n",
    "#subset1.plot(label = 'Mapo-gu', color = 'green')\n",
    "#plt.title(\"Total Number of Stores\")"
   ]
  },
  {
   "cell_type": "code",
   "execution_count": null,
   "metadata": {},
   "outputs": [],
   "source": [
    "plt.plot(total_num['Year'], total_num.iloc[:, 1], color = 'red')\n",
    "plt.plot(franchise_stores['Year'], franchise_stores.iloc[:, 1], color = 'blue')\n",
    "\n",
    "#xticklabels(('2015','2016','2017','2018','2019'))"
   ]
  },
  {
   "cell_type": "code",
   "execution_count": null,
   "metadata": {},
   "outputs": [],
   "source": [
    "# add one more for the other subplot\n",
    "# https://matplotlib.org/3.1.1/gallery/subplots_axes_and_figures/subplots_demo.html#sphx-glr-gallery-subplots-axes-and-figures-subplots-demo-py\n",
    "\n",
    "\n",
    "# x = np.arange(1, 6)\n",
    "# width = 0.3\n",
    "\n",
    "# fig, ax = plt.subplots() # 2 rows, 2 columns\n",
    "# fig.tight_layout(pad = 3.0)\n",
    "# ax2 = ax.bar(x+width/2, general_num[0], width, label = 'General') \n",
    "# ax1 = ax.bar(x-width/2, franchise_stores[0], width, label = 'Franchise') \n",
    "# ax.set_xticklabels(general_num[\"Year\"].values)\n",
    "\n",
    "# ax[0, 0].plot(general_num['Year'], general_num.iloc[:, 1], color = 'red')\n",
    "# ax[0, 0].plot(franchise_stores['Year'], franchise_stores.iloc[:, 1], color = 'blue')\n",
    "# plt.xticks(rotation=70)\n",
    "\n"
   ]
  }
 ],
 "metadata": {
  "kernelspec": {
   "display_name": "Python 3",
   "language": "python",
   "name": "python3"
  },
  "language_info": {
   "codemirror_mode": {
    "name": "ipython",
    "version": 3
   },
   "file_extension": ".py",
   "mimetype": "text/x-python",
   "name": "python",
   "nbconvert_exporter": "python",
   "pygments_lexer": "ipython3",
   "version": "3.7.4"
  }
 },
 "nbformat": 4,
 "nbformat_minor": 4
}
