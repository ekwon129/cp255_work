{
 "cells": [
  {
   "cell_type": "code",
   "execution_count": 1,
   "metadata": {},
   "outputs": [],
   "source": [
    "import numpy as np\n",
    "import pandas as pd\n",
    "import matplotlib.pyplot as plt\n",
    "import matplotlib.axes as ax\n",
    "import geopandas as gpd"
   ]
  },
  {
   "cell_type": "code",
   "execution_count": 154,
   "metadata": {},
   "outputs": [],
   "source": [
    "#merged with codes"
   ]
  },
  {
   "cell_type": "code",
   "execution_count": 155,
   "metadata": {},
   "outputs": [],
   "source": [
    "sk_province = gpd.read_file('skorea-provinces-2018-geo.json') # Seoul, or do\n",
    "sk_muni = gpd.read_file('skorea-municipalities-2018-geo.json') # gu\n",
    "sk_submuni = gpd.read_file('skorea-submunicipalities-2018-geo.json') #dong\n",
    "seoul_data = pd.read_csv('Seoul_Data.csv')"
   ]
  },
  {
   "cell_type": "code",
   "execution_count": 201,
   "metadata": {},
   "outputs": [],
   "source": [
    "neighborhoods = pd.read_csv('Neighborhood Level Data Ver 2.csv')"
   ]
  },
  {
   "cell_type": "code",
   "execution_count": 157,
   "metadata": {},
   "outputs": [
    {
     "data": {
      "text/html": [
       "<div>\n",
       "<style scoped>\n",
       "    .dataframe tbody tr th:only-of-type {\n",
       "        vertical-align: middle;\n",
       "    }\n",
       "\n",
       "    .dataframe tbody tr th {\n",
       "        vertical-align: top;\n",
       "    }\n",
       "\n",
       "    .dataframe thead th {\n",
       "        text-align: right;\n",
       "    }\n",
       "</style>\n",
       "<table border=\"1\" class=\"dataframe\">\n",
       "  <thead>\n",
       "    <tr style=\"text-align: right;\">\n",
       "      <th></th>\n",
       "      <th>name</th>\n",
       "      <th>base_year</th>\n",
       "      <th>name_eng</th>\n",
       "      <th>code</th>\n",
       "      <th>geometry</th>\n",
       "    </tr>\n",
       "  </thead>\n",
       "  <tbody>\n",
       "    <tr>\n",
       "      <td>0</td>\n",
       "      <td>사직동</td>\n",
       "      <td>2018</td>\n",
       "      <td>Sajik-dong</td>\n",
       "      <td>1101053</td>\n",
       "      <td>MULTIPOLYGON (((126.96894 37.57815, 126.96965 ...</td>\n",
       "    </tr>\n",
       "    <tr>\n",
       "      <td>1</td>\n",
       "      <td>삼청동</td>\n",
       "      <td>2018</td>\n",
       "      <td>Samcheong-dong</td>\n",
       "      <td>1101054</td>\n",
       "      <td>MULTIPOLYGON (((126.97714 37.59768, 126.97874 ...</td>\n",
       "    </tr>\n",
       "    <tr>\n",
       "      <td>2</td>\n",
       "      <td>부암동</td>\n",
       "      <td>2018</td>\n",
       "      <td>Buam-dong</td>\n",
       "      <td>1101055</td>\n",
       "      <td>MULTIPOLYGON (((126.96173 37.60714, 126.96267 ...</td>\n",
       "    </tr>\n",
       "    <tr>\n",
       "      <td>3</td>\n",
       "      <td>평창동</td>\n",
       "      <td>2018</td>\n",
       "      <td>Pyeongchang-dong</td>\n",
       "      <td>1101056</td>\n",
       "      <td>MULTIPOLYGON (((126.96267 37.60567, 126.96173 ...</td>\n",
       "    </tr>\n",
       "    <tr>\n",
       "      <td>4</td>\n",
       "      <td>무악동</td>\n",
       "      <td>2018</td>\n",
       "      <td>Muak-dong</td>\n",
       "      <td>1101057</td>\n",
       "      <td>MULTIPOLYGON (((126.95975 37.58001, 126.96111 ...</td>\n",
       "    </tr>\n",
       "  </tbody>\n",
       "</table>\n",
       "</div>"
      ],
      "text/plain": [
       "  name base_year          name_eng     code  \\\n",
       "0  사직동      2018        Sajik-dong  1101053   \n",
       "1  삼청동      2018    Samcheong-dong  1101054   \n",
       "2  부암동      2018         Buam-dong  1101055   \n",
       "3  평창동      2018  Pyeongchang-dong  1101056   \n",
       "4  무악동      2018         Muak-dong  1101057   \n",
       "\n",
       "                                            geometry  \n",
       "0  MULTIPOLYGON (((126.96894 37.57815, 126.96965 ...  \n",
       "1  MULTIPOLYGON (((126.97714 37.59768, 126.97874 ...  \n",
       "2  MULTIPOLYGON (((126.96173 37.60714, 126.96267 ...  \n",
       "3  MULTIPOLYGON (((126.96267 37.60567, 126.96173 ...  \n",
       "4  MULTIPOLYGON (((126.95975 37.58001, 126.96111 ...  "
      ]
     },
     "execution_count": 157,
     "metadata": {},
     "output_type": "execute_result"
    }
   ],
   "source": [
    "sk_submuni.head()"
   ]
  },
  {
   "cell_type": "code",
   "execution_count": 158,
   "metadata": {},
   "outputs": [
    {
     "data": {
      "text/plain": [
       "Index(['District Name', 'Neighborhood Name', '2016 Number of Coffee Shops',\n",
       "       '2019 Number of Coffee Shops',\n",
       "       'Percent Change in Number of Coffee Shops 2016-2019',\n",
       "       '2018 Aging Index Percentage', '2015 Total Number of Stores',\n",
       "       '2015 Franchise Stores', '2015 General Stores',\n",
       "       '16 Total Number of Stores', '16 Franchise Stores', '16 General Stores',\n",
       "       '17 Total Number of Stores', '17 Franchise Stores', '17 General Stores',\n",
       "       'Q2-18 Total Number of Stores', 'Q2-18 Franchise Stores',\n",
       "       'Q2-18 General Stores', 'Q2-19 Total Number of Stores',\n",
       "       'Q2-19 Franchise Stores', 'Q2-19 General Stores',\n",
       "       '% Change in Total Number of Storesg',\n",
       "       '% Change in Total Number Franchise Stores',\n",
       "       '% Change in Residential Pop (2015-2019)',\n",
       "       '% Change in Work Population (2015-2019)',\n",
       "       'Q2-15 Residential Population (persons per square mile)',\n",
       "       'Q2-15 Work Population (persons per square mile)',\n",
       "       'Q2-16 Residential Population (persons per square mile)',\n",
       "       'Q2-16 Work Population (persons per square mile)',\n",
       "       'Q2-17 Residential Population (persons per square mile)',\n",
       "       'Q2-17 Work Population (persons per square mile)',\n",
       "       'Q2-18 Residential Population (persons per square mile)',\n",
       "       'Q2-18 Work Population (persons per square mile)',\n",
       "       'Q2-19 Residential Population (persons per square mile)',\n",
       "       'Q2-19 Work Population (persons per square mile)',\n",
       "       'Q2-15 Number of Households', 'Q2-16 Number of Households x',\n",
       "       'Q2-17 Number of Households y', 'Q2-18 Number of Households z',\n",
       "       'Q2-19 Number of Households z',\n",
       "       'Q2-15 Monthly rent per 3.3 meters squared (KRW) a',\n",
       "       'Q2-16 Monthly rent per 3.3 meters squared (KRW) b',\n",
       "       'Q2-17 Monthly rent per 3.3 meters squared (KRW) c',\n",
       "       'Q2-18 Monthly rent per 3.3 meters squared (KRW) d',\n",
       "       'Q2-19 Monthly rent per 3.3 meters squared (KRW) e',\n",
       "       '% Change in Monthly Rent (2015-2019) f', 'Q2-15 Business Openings g',\n",
       "       'Q2-15 Business Closing h', 'Q2-15 Opening Rate (Percent) i',\n",
       "       'Q2-15 Closing Rate (Percent) j', 'Q2-16 Business Openings k',\n",
       "       'Q2-16 Business Closing l', 'Q2-16 Opening Rate (Percent) m',\n",
       "       'Q2-16 Closing Rate (Percent) n ', 'Q2-17 Business Openings o',\n",
       "       'Q2-17 Business Closing p ', 'Q2-17 Opening Rate (Percent) q',\n",
       "       'Q2-17 Closing Rate (Percent) r', 'Q2-18 Business Openings s',\n",
       "       'Q2-18 Business Closing t', 'Q2-18 Opening Rate (Percent) u',\n",
       "       'Q2-18 Closing Rate (Percent) v', 'Q2-19 Business Openings x',\n",
       "       'Q2-19 Business Closing x', 'Q2-19 Opening Rate (Percent) w',\n",
       "       'Q2-19 Closing Rate (Percent) z', 'Q2-15 Number of Households x',\n",
       "       'Q2-19 Number of Households b'],\n",
       "      dtype='object')"
      ]
     },
     "execution_count": 158,
     "metadata": {},
     "output_type": "execute_result"
    }
   ],
   "source": [
    "neighborhoods.columns #52 rows - 3 rows (aggregation) = 49 neighborhood names"
   ]
  },
  {
   "cell_type": "code",
   "execution_count": 159,
   "metadata": {},
   "outputs": [],
   "source": [
    "neighborhoods = neighborhoods.rename(columns = {'Neighborhood Name':'name_eng'})"
   ]
  },
  {
   "cell_type": "markdown",
   "metadata": {},
   "source": [
    "## 1. join the level 2 neighborhoods (dong) data with the geospatial data (dong)\n"
   ]
  },
  {
   "cell_type": "code",
   "execution_count": 160,
   "metadata": {},
   "outputs": [],
   "source": [
    "merged = pd.merge(neighborhoods, sk_submuni, how = 'inner', on = 'name_eng') # want inner join\n",
    "\n",
    "merged = merged[merged['code'].str.startswith('11')] # we only want the provinces that start with 11, b/c that is Seoul's code"
   ]
  },
  {
   "cell_type": "code",
   "execution_count": 161,
   "metadata": {},
   "outputs": [
    {
     "data": {
      "text/plain": [
       "49"
      ]
     },
     "execution_count": 161,
     "metadata": {},
     "output_type": "execute_result"
    }
   ],
   "source": [
    "len(merged) # we know that it's a perfect match between the two"
   ]
  },
  {
   "cell_type": "markdown",
   "metadata": {},
   "source": [
    "## 2. merge the dong data (submuni) into the gu data (Districts)"
   ]
  },
  {
   "cell_type": "code",
   "execution_count": 162,
   "metadata": {},
   "outputs": [
    {
     "data": {
      "text/html": [
       "<div>\n",
       "<style scoped>\n",
       "    .dataframe tbody tr th:only-of-type {\n",
       "        vertical-align: middle;\n",
       "    }\n",
       "\n",
       "    .dataframe tbody tr th {\n",
       "        vertical-align: top;\n",
       "    }\n",
       "\n",
       "    .dataframe thead th {\n",
       "        text-align: right;\n",
       "    }\n",
       "</style>\n",
       "<table border=\"1\" class=\"dataframe\">\n",
       "  <thead>\n",
       "    <tr style=\"text-align: right;\">\n",
       "      <th></th>\n",
       "      <th>District Name</th>\n",
       "      <th>name_eng</th>\n",
       "      <th>2016 Number of Coffee Shops</th>\n",
       "      <th>2019 Number of Coffee Shops</th>\n",
       "      <th>Percent Change in Number of Coffee Shops 2016-2019</th>\n",
       "      <th>2018 Aging Index Percentage</th>\n",
       "      <th>2015 Total Number of Stores</th>\n",
       "      <th>2015 Franchise Stores</th>\n",
       "      <th>2015 General Stores</th>\n",
       "      <th>16 Total Number of Stores</th>\n",
       "      <th>...</th>\n",
       "      <th>Q2-19 Business Openings x</th>\n",
       "      <th>Q2-19 Business Closing x</th>\n",
       "      <th>Q2-19 Opening Rate (Percent) w</th>\n",
       "      <th>Q2-19 Closing Rate (Percent) z</th>\n",
       "      <th>Q2-15 Number of Households x</th>\n",
       "      <th>Q2-19 Number of Households b</th>\n",
       "      <th>name</th>\n",
       "      <th>base_year</th>\n",
       "      <th>code</th>\n",
       "      <th>geometry</th>\n",
       "    </tr>\n",
       "  </thead>\n",
       "  <tbody>\n",
       "    <tr>\n",
       "      <td>0</td>\n",
       "      <td>Seongdong-gu</td>\n",
       "      <td>Wangsimni2-dong</td>\n",
       "      <td>9.0</td>\n",
       "      <td>14.0</td>\n",
       "      <td>0.555556</td>\n",
       "      <td>117.53</td>\n",
       "      <td>577</td>\n",
       "      <td>29</td>\n",
       "      <td>548</td>\n",
       "      <td>604</td>\n",
       "      <td>...</td>\n",
       "      <td>24</td>\n",
       "      <td>17</td>\n",
       "      <td>4.3</td>\n",
       "      <td>3.0</td>\n",
       "      <td>5,579</td>\n",
       "      <td>7,779</td>\n",
       "      <td>왕십리2동</td>\n",
       "      <td>2018</td>\n",
       "      <td>1104052</td>\n",
       "      <td>MULTIPOLYGON (((127.03322 37.56194, 127.03107 ...</td>\n",
       "    </tr>\n",
       "    <tr>\n",
       "      <td>1</td>\n",
       "      <td>Seongdong-gu</td>\n",
       "      <td>Wangsimnidoseondong</td>\n",
       "      <td>31.0</td>\n",
       "      <td>47.0</td>\n",
       "      <td>0.516129</td>\n",
       "      <td>104.86</td>\n",
       "      <td>1,240</td>\n",
       "      <td>83</td>\n",
       "      <td>1,157</td>\n",
       "      <td>1,285</td>\n",
       "      <td>...</td>\n",
       "      <td>58</td>\n",
       "      <td>53</td>\n",
       "      <td>3.8</td>\n",
       "      <td>3.5</td>\n",
       "      <td>5,426</td>\n",
       "      <td>11,321</td>\n",
       "      <td>왕십리도선동</td>\n",
       "      <td>2018</td>\n",
       "      <td>1104071</td>\n",
       "      <td>MULTIPOLYGON (((127.02521 37.57085, 127.02616 ...</td>\n",
       "    </tr>\n",
       "    <tr>\n",
       "      <td>2</td>\n",
       "      <td>Seongdong-gu</td>\n",
       "      <td>Majang-dong</td>\n",
       "      <td>17.0</td>\n",
       "      <td>18.0</td>\n",
       "      <td>0.058824</td>\n",
       "      <td>156.00</td>\n",
       "      <td>2,297</td>\n",
       "      <td>48</td>\n",
       "      <td>2,249</td>\n",
       "      <td>2,327</td>\n",
       "      <td>...</td>\n",
       "      <td>21</td>\n",
       "      <td>39</td>\n",
       "      <td>1.0</td>\n",
       "      <td>1.8</td>\n",
       "      <td>10,142</td>\n",
       "      <td>10,623</td>\n",
       "      <td>마장동</td>\n",
       "      <td>2018</td>\n",
       "      <td>1104054</td>\n",
       "      <td>MULTIPOLYGON (((127.03777 37.57227, 127.03813 ...</td>\n",
       "    </tr>\n",
       "    <tr>\n",
       "      <td>3</td>\n",
       "      <td>Seongdong-gu</td>\n",
       "      <td>Sageun-dong</td>\n",
       "      <td>59.0</td>\n",
       "      <td>64.0</td>\n",
       "      <td>0.084746</td>\n",
       "      <td>182.50</td>\n",
       "      <td>800</td>\n",
       "      <td>129</td>\n",
       "      <td>671</td>\n",
       "      <td>828</td>\n",
       "      <td>...</td>\n",
       "      <td>26</td>\n",
       "      <td>31</td>\n",
       "      <td>3.2</td>\n",
       "      <td>3.9</td>\n",
       "      <td>5,925</td>\n",
       "      <td>7,174</td>\n",
       "      <td>사근동</td>\n",
       "      <td>2018</td>\n",
       "      <td>1104055</td>\n",
       "      <td>MULTIPOLYGON (((127.04823 37.56538, 127.04836 ...</td>\n",
       "    </tr>\n",
       "    <tr>\n",
       "      <td>4</td>\n",
       "      <td>Seongdong-gu</td>\n",
       "      <td>Haengdang 1(il)-dong</td>\n",
       "      <td>30.0</td>\n",
       "      <td>32.0</td>\n",
       "      <td>0.066667</td>\n",
       "      <td>139.87</td>\n",
       "      <td>1,080</td>\n",
       "      <td>119</td>\n",
       "      <td>961</td>\n",
       "      <td>1,098</td>\n",
       "      <td>...</td>\n",
       "      <td>24</td>\n",
       "      <td>30</td>\n",
       "      <td>2.2</td>\n",
       "      <td>2.7</td>\n",
       "      <td>6,778</td>\n",
       "      <td>7,735</td>\n",
       "      <td>행당1동</td>\n",
       "      <td>2018</td>\n",
       "      <td>1104056</td>\n",
       "      <td>MULTIPOLYGON (((127.03864 37.56305, 127.03881 ...</td>\n",
       "    </tr>\n",
       "  </tbody>\n",
       "</table>\n",
       "<p>5 rows × 72 columns</p>\n",
       "</div>"
      ],
      "text/plain": [
       "  District Name              name_eng  2016 Number of Coffee Shops  \\\n",
       "0  Seongdong-gu       Wangsimni2-dong                          9.0   \n",
       "1  Seongdong-gu   Wangsimnidoseondong                         31.0   \n",
       "2  Seongdong-gu           Majang-dong                         17.0   \n",
       "3  Seongdong-gu           Sageun-dong                         59.0   \n",
       "4  Seongdong-gu  Haengdang 1(il)-dong                         30.0   \n",
       "\n",
       "   2019 Number of Coffee Shops  \\\n",
       "0                         14.0   \n",
       "1                         47.0   \n",
       "2                         18.0   \n",
       "3                         64.0   \n",
       "4                         32.0   \n",
       "\n",
       "   Percent Change in Number of Coffee Shops 2016-2019  \\\n",
       "0                                           0.555556    \n",
       "1                                           0.516129    \n",
       "2                                           0.058824    \n",
       "3                                           0.084746    \n",
       "4                                           0.066667    \n",
       "\n",
       "   2018 Aging Index Percentage 2015 Total Number of Stores  \\\n",
       "0                       117.53                         577   \n",
       "1                       104.86                       1,240   \n",
       "2                       156.00                       2,297   \n",
       "3                       182.50                         800   \n",
       "4                       139.87                       1,080   \n",
       "\n",
       "   2015 Franchise Stores 2015 General Stores 16 Total Number of Stores  ...  \\\n",
       "0                     29                 548                       604  ...   \n",
       "1                     83               1,157                     1,285  ...   \n",
       "2                     48               2,249                     2,327  ...   \n",
       "3                    129                 671                       828  ...   \n",
       "4                    119                 961                     1,098  ...   \n",
       "\n",
       "   Q2-19 Business Openings x Q2-19 Business Closing x  \\\n",
       "0                         24                       17   \n",
       "1                         58                       53   \n",
       "2                         21                       39   \n",
       "3                         26                       31   \n",
       "4                         24                       30   \n",
       "\n",
       "  Q2-19 Opening Rate (Percent) w  Q2-19 Closing Rate (Percent) z  \\\n",
       "0                            4.3                             3.0   \n",
       "1                            3.8                             3.5   \n",
       "2                            1.0                             1.8   \n",
       "3                            3.2                             3.9   \n",
       "4                            2.2                             2.7   \n",
       "\n",
       "  Q2-15 Number of Households x Q2-19 Number of Households b    name base_year  \\\n",
       "0                        5,579                        7,779   왕십리2동      2018   \n",
       "1                        5,426                       11,321  왕십리도선동      2018   \n",
       "2                       10,142                       10,623     마장동      2018   \n",
       "3                        5,925                        7,174     사근동      2018   \n",
       "4                        6,778                        7,735    행당1동      2018   \n",
       "\n",
       "      code                                           geometry  \n",
       "0  1104052  MULTIPOLYGON (((127.03322 37.56194, 127.03107 ...  \n",
       "1  1104071  MULTIPOLYGON (((127.02521 37.57085, 127.02616 ...  \n",
       "2  1104054  MULTIPOLYGON (((127.03777 37.57227, 127.03813 ...  \n",
       "3  1104055  MULTIPOLYGON (((127.04823 37.56538, 127.04836 ...  \n",
       "4  1104056  MULTIPOLYGON (((127.03864 37.56305, 127.03881 ...  \n",
       "\n",
       "[5 rows x 72 columns]"
      ]
     },
     "execution_count": 162,
     "metadata": {},
     "output_type": "execute_result"
    }
   ],
   "source": [
    "merged.head()"
   ]
  },
  {
   "cell_type": "markdown",
   "metadata": {},
   "source": [
    "# First, we need to convert merged back into a geodata frame to be able to spatially join it with the districts shape geodata frame"
   ]
  },
  {
   "cell_type": "code",
   "execution_count": 163,
   "metadata": {},
   "outputs": [],
   "source": [
    "g_merged = gpd.GeoDataFrame(merged, geometry='geometry') \n",
    "# neighbohoods csv merged with submuni data, turned into a geodataframe"
   ]
  },
  {
   "cell_type": "code",
   "execution_count": 164,
   "metadata": {},
   "outputs": [],
   "source": [
    "copy = g_merged\n",
    "copy.crs = 'epsg:4326'"
   ]
  },
  {
   "cell_type": "code",
   "execution_count": 165,
   "metadata": {},
   "outputs": [],
   "source": [
    "copy;"
   ]
  },
  {
   "cell_type": "code",
   "execution_count": 166,
   "metadata": {},
   "outputs": [
    {
     "data": {
      "text/plain": [
       "Index(['name', 'base_year', 'name_eng', 'code', 'geometry'], dtype='object')"
      ]
     },
     "execution_count": 166,
     "metadata": {},
     "output_type": "execute_result"
    }
   ],
   "source": [
    "sk_muni.columns"
   ]
  },
  {
   "cell_type": "code",
   "execution_count": 167,
   "metadata": {},
   "outputs": [],
   "source": [
    "seoul = gpd.GeoDataFrame(sk_muni[sk_muni['code'].str.startswith('11')], geometry='geometry') \n",
    "# again, we only want the municipalities in Seoul\n",
    "seoul.crs = 'epsg:4326'"
   ]
  },
  {
   "cell_type": "code",
   "execution_count": 168,
   "metadata": {},
   "outputs": [],
   "source": [
    "seoul_n = gpd.sjoin(seoul, copy, how = 'left', op = 'contains')"
   ]
  },
  {
   "cell_type": "code",
   "execution_count": 169,
   "metadata": {},
   "outputs": [],
   "source": [
    "seoul_n.columns;"
   ]
  },
  {
   "cell_type": "code",
   "execution_count": 170,
   "metadata": {},
   "outputs": [],
   "source": [
    "seoul_n['% Change in Residential Pop (2015-2019)']; # confirming this is here, and there's only one (from neighborhoods)"
   ]
  },
  {
   "cell_type": "code",
   "execution_count": 171,
   "metadata": {},
   "outputs": [],
   "source": [
    "seoul_n;"
   ]
  },
  {
   "cell_type": "code",
   "execution_count": 172,
   "metadata": {},
   "outputs": [
    {
     "data": {
      "text/plain": [
       "<matplotlib.axes._subplots.AxesSubplot at 0x120c9b6d0>"
      ]
     },
     "execution_count": 172,
     "metadata": {},
     "output_type": "execute_result"
    },
    {
     "data": {
      "image/png": "[encoded data removed]",
      "text/plain": [
       "<Figure size 432x288 with 1 Axes>"
      ]
     },
     "metadata": {
      "needs_background": "light"
     },
     "output_type": "display_data"
    }
   ],
   "source": [
    "seoul_n.plot(column = '% Change in Residential Pop (2015-2019)', missing_kwds={'color': 'lightgrey'})\n"
   ]
  },
  {
   "cell_type": "code",
   "execution_count": 173,
   "metadata": {},
   "outputs": [
    {
     "data": {
      "text/plain": [
       "Index(['name', 'base_year', 'name_eng', 'code', 'geometry'], dtype='object')"
      ]
     },
     "execution_count": 173,
     "metadata": {},
     "output_type": "execute_result"
    }
   ],
   "source": [
    "sk_muni.columns"
   ]
  },
  {
   "cell_type": "code",
   "execution_count": 174,
   "metadata": {},
   "outputs": [
    {
     "data": {
      "text/html": [
       "<div>\n",
       "<style scoped>\n",
       "    .dataframe tbody tr th:only-of-type {\n",
       "        vertical-align: middle;\n",
       "    }\n",
       "\n",
       "    .dataframe tbody tr th {\n",
       "        vertical-align: top;\n",
       "    }\n",
       "\n",
       "    .dataframe thead th {\n",
       "        text-align: right;\n",
       "    }\n",
       "</style>\n",
       "<table border=\"1\" class=\"dataframe\">\n",
       "  <thead>\n",
       "    <tr style=\"text-align: right;\">\n",
       "      <th></th>\n",
       "      <th>name</th>\n",
       "      <th>base_year</th>\n",
       "      <th>name_eng</th>\n",
       "      <th>code</th>\n",
       "      <th>geometry</th>\n",
       "    </tr>\n",
       "  </thead>\n",
       "  <tbody>\n",
       "    <tr>\n",
       "      <td>3</td>\n",
       "      <td>성동구</td>\n",
       "      <td>2018</td>\n",
       "      <td>Seongdong-gu</td>\n",
       "      <td>11040</td>\n",
       "      <td>MULTIPOLYGON (((127.04324 37.57241, 127.04491 ...</td>\n",
       "    </tr>\n",
       "  </tbody>\n",
       "</table>\n",
       "</div>"
      ],
      "text/plain": [
       "  name base_year      name_eng   code  \\\n",
       "3  성동구      2018  Seongdong-gu  11040   \n",
       "\n",
       "                                            geometry  \n",
       "3  MULTIPOLYGON (((127.04324 37.57241, 127.04491 ...  "
      ]
     },
     "execution_count": 174,
     "metadata": {},
     "output_type": "execute_result"
    }
   ],
   "source": [
    "sk_muni[sk_muni['name_eng']=='Mapo-gu'] \n",
    "sk_muni[sk_muni['name_eng']=='Yongsan-gu'] \n",
    "sk_muni[sk_muni['name_eng']=='Seongdong-gu'] "
   ]
  },
  {
   "cell_type": "code",
   "execution_count": 175,
   "metadata": {},
   "outputs": [
    {
     "data": {
      "text/plain": [
       "<matplotlib.axes._subplots.AxesSubplot at 0x120c7dc90>"
      ]
     },
     "execution_count": 175,
     "metadata": {},
     "output_type": "execute_result"
    },
    {
     "data": {
      "image/png": "[encoded data removed]",
      "text/plain": [
       "<Figure size 432x288 with 1 Axes>"
      ]
     },
     "metadata": {
      "needs_background": "light"
     },
     "output_type": "display_data"
    }
   ],
   "source": [
    "# these are the focused districts. wrong name.\n",
    "seoul_ = sk_muni[sk_muni['code'].str.startswith('11')].iloc[[2, 3, 13], :] \n",
    "#13 (Mapo), 2 (Yongsan-gu), 3 (Seongdong-gu)\n",
    "seoul_.plot()"
   ]
  },
  {
   "cell_type": "markdown",
   "metadata": {},
   "source": [
    "# Highlight the case study neighborhoods"
   ]
  },
  {
   "cell_type": "code",
   "execution_count": 176,
   "metadata": {},
   "outputs": [
    {
     "data": {
      "text/plain": [
       "array(['Wangsimni2-dong', 'Wangsimnidoseondong', 'Majang-dong',\n",
       "       'Sageun-dong', 'Haengdang 1(il)-dong', 'Haengdang 2(i)-dong',\n",
       "       'Eungbong-dong', 'Geumho1Gadong', 'Geumho2·3Gadong',\n",
       "       'Geumho4Gadong', 'Oksu-dong', 'Seongsu1(il)-ga1(il)-dong',\n",
       "       'Seongsu1(il)-ga2(i)-dong', 'Seongsu 2(i)-ga1(il)-dong',\n",
       "       'Seongsu 2(i)-ga 3(sam)-dong', 'Songjeong-dong', 'Yongdap-dong',\n",
       "       'Ahyeon-dong', 'Gongdeok-dong', 'Dohwa-dong', 'Yonggang-dong',\n",
       "       'Daeheung-dong', 'Yeomni-dong', 'Sinsu-dong', 'Seogangdong',\n",
       "       'Seogyo-dong', 'Hapjeong-dong', 'Mangwon 1(il)-dong',\n",
       "       'Mangwon 2(i)-dong', 'Yeonnam-dong', 'Seongsan 1(il)-dong',\n",
       "       'Seongsan 2(i)-dong', 'Sangam-dong', 'Huam-dong', 'Yongsan2Gadong',\n",
       "       'Namyeong-dong', 'Cheongpadong', 'Wonhyoro1-dong',\n",
       "       'Wonhyoro2-dong', 'Hyochang-dong', 'Yongmun-dong', 'Hangangnodong',\n",
       "       'Ichon 1(il)-dong', 'Ichon 2(i)-dong', 'Itaewon 1(il)-dong',\n",
       "       'Itaewon 2(i)-dong', 'Hannam-dong', 'Seobinggo-dong',\n",
       "       'Bogwang-dong'], dtype=object)"
      ]
     },
     "execution_count": 176,
     "metadata": {},
     "output_type": "execute_result"
    }
   ],
   "source": [
    "g_merged['name_eng'].values\n",
    "#'Itaewon 1(il)-dong', 'Itaewon 2(i)-dong'\n",
    "# 'Seongsu1(il)-ga1(il)-dong', 'Seongsu1(il)-ga2(i)-dong', 'Seongsu 2(i)-ga1(il)-dong', 'Seongsu 2(i)-ga 3(sam)-dong'\n",
    "#'Seogyo-dong'\n",
    "# 'Yeonnam-dong'"
   ]
  },
  {
   "cell_type": "code",
   "execution_count": 177,
   "metadata": {},
   "outputs": [],
   "source": [
    "def find_indices(li):\n",
    "    indices = []\n",
    "    for i in li:\n",
    "        index = np.where(g_merged[\"name_eng\"] == i)[0][0]\n",
    "        indices += [index]\n",
    "    return indices"
   ]
  },
  {
   "cell_type": "code",
   "execution_count": 178,
   "metadata": {},
   "outputs": [],
   "source": [
    "li = ['Itaewon 1(il)-dong', 'Itaewon 2(i)-dong', 'Seongsu1(il)-ga1(il)-dong', 'Seongsu1(il)-ga2(i)-dong', 'Seongsu 2(i)-ga1(il)-dong', 'Seongsu 2(i)-ga 3(sam)-dong', 'Seogyo-dong', 'Yeonnam-dong']"
   ]
  },
  {
   "cell_type": "code",
   "execution_count": 179,
   "metadata": {},
   "outputs": [],
   "source": [
    "case_study_n = find_indices(li)"
   ]
  },
  {
   "cell_type": "code",
   "execution_count": 180,
   "metadata": {},
   "outputs": [
    {
     "data": {
      "text/plain": [
       "[44, 45, 11, 12, 13, 14, 25, 29]"
      ]
     },
     "execution_count": 180,
     "metadata": {},
     "output_type": "execute_result"
    }
   ],
   "source": [
    "case_study_n # the indices"
   ]
  },
  {
   "cell_type": "code",
   "execution_count": 181,
   "metadata": {},
   "outputs": [],
   "source": [
    "case_study = g_merged.iloc[case_study_n]\n"
   ]
  },
  {
   "cell_type": "code",
   "execution_count": 182,
   "metadata": {},
   "outputs": [],
   "source": [
    "outer_seoul = seoul_n.drop([2, 3, 13], axis = 0)"
   ]
  },
  {
   "cell_type": "markdown",
   "metadata": {},
   "source": [
    "# Chloropleth Map 1: % Change in Residential Pop (2015-2019)"
   ]
  },
  {
   "cell_type": "code",
   "execution_count": 183,
   "metadata": {},
   "outputs": [
    {
     "data": {
      "text/plain": [
       "<matplotlib.axes._subplots.AxesSubplot at 0x12002ef10>"
      ]
     },
     "execution_count": 183,
     "metadata": {},
     "output_type": "execute_result"
    },
    {
     "data": {
      "image/png": "[encoded data removed]",
      "text/plain": [
       "<Figure size 432x288 with 2 Axes>"
      ]
     },
     "metadata": {
      "needs_background": "light"
     },
     "output_type": "display_data"
    }
   ],
   "source": [
    "base = seoul_.geometry.boundary.plot(color = None, edgecolor='k',linewidth = 1)\n",
    "\n",
    "outer_seoul.plot(ax = base, color = '#d3d3d3', edgecolor = 'black', linewidth=0.5)\n",
    "\n",
    "g_merged.plot(ax=base, column = '% Change in Residential Pop (2015-2019)', legend = True, cmap='OrRd', edgecolor = 'white', linewidth=1)\n",
    "case_study.plot(ax = base, facecolor=\"none\", edgecolor = 'yellow', linewidth = 0.5)\n"
   ]
  },
  {
   "cell_type": "markdown",
   "metadata": {},
   "source": [
    "# Chloropleth Map 2: % Change in Work Population (2015-2019)"
   ]
  },
  {
   "cell_type": "code",
   "execution_count": 184,
   "metadata": {},
   "outputs": [
    {
     "data": {
      "text/plain": [
       "(126.74353119797986, 127.204491931786, 37.41517625211965, 37.715087618080894)"
      ]
     },
     "execution_count": 184,
     "metadata": {},
     "output_type": "execute_result"
    },
    {
     "data": {
      "image/png": "[encoded data removed]",
      "text/plain": [
       "<Figure size 432x288 with 2 Axes>"
      ]
     },
     "metadata": {
      "needs_background": "light"
     },
     "output_type": "display_data"
    }
   ],
   "source": [
    "base = seoul_.geometry.boundary.plot(color = None, edgecolor='k',linewidth = 1)\n",
    "\n",
    "outer_seoul.plot(ax = base, color = '#d3d3d3', edgecolor = 'black', linewidth=0.5)\n",
    "\n",
    "g_merged.plot(ax = base, column = '% Change in Work Population (2015-2019)', legend = True, cmap='GnBu', edgecolor = 'white', linewidth=1)\n",
    "case_study.plot(ax = base, facecolor=\"none\", edgecolor = 'yellow', linewidth = 0.5)\n",
    "\n",
    "plt.axis('off')"
   ]
  },
  {
   "cell_type": "markdown",
   "metadata": {},
   "source": [
    "# \"Zoomed\" Chloropleth 1: % Change in Residential Pop (2015-2019)"
   ]
  },
  {
   "cell_type": "code",
   "execution_count": 185,
   "metadata": {},
   "outputs": [
    {
     "data": {
      "text/plain": [
       "(126.84262314641533,\n",
       " 127.08474112160337,\n",
       " 37.502306269921014,\n",
       " 37.595006060200845)"
      ]
     },
     "execution_count": 185,
     "metadata": {},
     "output_type": "execute_result"
    },
    {
     "data": {
      "image/png": "[encoded data removed]",
      "text/plain": [
       "<Figure size 432x288 with 2 Axes>"
      ]
     },
     "metadata": {
      "needs_background": "light"
     },
     "output_type": "display_data"
    }
   ],
   "source": [
    "ax = g_merged.plot(column = '% Change in Residential Pop (2015-2019)', legend = True, cmap='OrRd', edgecolor = 'white', linewidth=1)\n",
    "case_study.plot(ax = ax, facecolor=\"none\", edgecolor = 'yellow', linewidth = 0.5)\n",
    "\n",
    "seoul_.geometry.boundary.plot(color=None,edgecolor='k',linewidth = 1,ax=ax) #Use your second dataframe\n",
    "plt.axis('off')"
   ]
  },
  {
   "cell_type": "markdown",
   "metadata": {},
   "source": [
    "# \"Zoomed\" Chloropleth 2: % Change in Work Population (2015-2019)"
   ]
  },
  {
   "cell_type": "code",
   "execution_count": 186,
   "metadata": {},
   "outputs": [
    {
     "data": {
      "text/plain": [
       "(126.84262314641533,\n",
       " 127.08474112160337,\n",
       " 37.502306269921014,\n",
       " 37.595006060200845)"
      ]
     },
     "execution_count": 186,
     "metadata": {},
     "output_type": "execute_result"
    },
    {
     "data": {
      "image/png": "[encoded data removed]",
      "text/plain": [
       "<Figure size 432x288 with 2 Axes>"
      ]
     },
     "metadata": {
      "needs_background": "light"
     },
     "output_type": "display_data"
    }
   ],
   "source": [
    "ax = g_merged.plot(column = '% Change in Work Population (2015-2019)', legend = True, cmap='GnBu', edgecolor = 'white', linewidth=1)\n",
    "case_study.plot(ax = ax, facecolor=\"none\", edgecolor = 'yellow', linewidth = 0.5)\n",
    "\n",
    "seoul_.geometry.boundary.plot(color=None,edgecolor='k',linewidth = 1,ax=ax) #Use your second dataframe\n",
    "\n",
    "plt.axis('off')"
   ]
  },
  {
   "cell_type": "code",
   "execution_count": 187,
   "metadata": {},
   "outputs": [
    {
     "data": {
      "text/plain": [
       "Index(['District Name', 'name_eng', '2016 Number of Coffee Shops',\n",
       "       '2019 Number of Coffee Shops',\n",
       "       'Percent Change in Number of Coffee Shops 2016-2019',\n",
       "       '2018 Aging Index Percentage', '2015 Total Number of Stores',\n",
       "       '2015 Franchise Stores', '2015 General Stores',\n",
       "       '16 Total Number of Stores', '16 Franchise Stores', '16 General Stores',\n",
       "       '17 Total Number of Stores', '17 Franchise Stores', '17 General Stores',\n",
       "       'Q2-18 Total Number of Stores', 'Q2-18 Franchise Stores',\n",
       "       'Q2-18 General Stores', 'Q2-19 Total Number of Stores',\n",
       "       'Q2-19 Franchise Stores', 'Q2-19 General Stores',\n",
       "       '% Change in Total Number of Storesg',\n",
       "       '% Change in Total Number Franchise Stores',\n",
       "       '% Change in Residential Pop (2015-2019)',\n",
       "       '% Change in Work Population (2015-2019)',\n",
       "       'Q2-15 Residential Population (persons per square mile)',\n",
       "       'Q2-15 Work Population (persons per square mile)',\n",
       "       'Q2-16 Residential Population (persons per square mile)',\n",
       "       'Q2-16 Work Population (persons per square mile)',\n",
       "       'Q2-17 Residential Population (persons per square mile)',\n",
       "       'Q2-17 Work Population (persons per square mile)',\n",
       "       'Q2-18 Residential Population (persons per square mile)',\n",
       "       'Q2-18 Work Population (persons per square mile)',\n",
       "       'Q2-19 Residential Population (persons per square mile)',\n",
       "       'Q2-19 Work Population (persons per square mile)',\n",
       "       'Q2-15 Number of Households', 'Q2-16 Number of Households x',\n",
       "       'Q2-17 Number of Households y', 'Q2-18 Number of Households z',\n",
       "       'Q2-19 Number of Households z',\n",
       "       'Q2-15 Monthly rent per 3.3 meters squared (KRW) a',\n",
       "       'Q2-16 Monthly rent per 3.3 meters squared (KRW) b',\n",
       "       'Q2-17 Monthly rent per 3.3 meters squared (KRW) c',\n",
       "       'Q2-18 Monthly rent per 3.3 meters squared (KRW) d',\n",
       "       'Q2-19 Monthly rent per 3.3 meters squared (KRW) e',\n",
       "       '% Change in Monthly Rent (2015-2019) f', 'Q2-15 Business Openings g',\n",
       "       'Q2-15 Business Closing h', 'Q2-15 Opening Rate (Percent) i',\n",
       "       'Q2-15 Closing Rate (Percent) j', 'Q2-16 Business Openings k',\n",
       "       'Q2-16 Business Closing l', 'Q2-16 Opening Rate (Percent) m',\n",
       "       'Q2-16 Closing Rate (Percent) n ', 'Q2-17 Business Openings o',\n",
       "       'Q2-17 Business Closing p ', 'Q2-17 Opening Rate (Percent) q',\n",
       "       'Q2-17 Closing Rate (Percent) r', 'Q2-18 Business Openings s',\n",
       "       'Q2-18 Business Closing t', 'Q2-18 Opening Rate (Percent) u',\n",
       "       'Q2-18 Closing Rate (Percent) v', 'Q2-19 Business Openings x',\n",
       "       'Q2-19 Business Closing x', 'Q2-19 Opening Rate (Percent) w',\n",
       "       'Q2-19 Closing Rate (Percent) z', 'Q2-15 Number of Households x',\n",
       "       'Q2-19 Number of Households b', 'name', 'base_year', 'code',\n",
       "       'geometry'],\n",
       "      dtype='object')"
      ]
     },
     "execution_count": 187,
     "metadata": {},
     "output_type": "execute_result"
    }
   ],
   "source": [
    "merged.columns"
   ]
  },
  {
   "cell_type": "markdown",
   "metadata": {},
   "source": [
    "# Bubble Map of Number of Coffee Shops in 2016 and 2019 (for zoomed in view)"
   ]
  },
  {
   "cell_type": "code",
   "execution_count": 188,
   "metadata": {},
   "outputs": [
    {
     "data": {
      "text/plain": [
       "array([  9.,  31.,  17.,  59.,  30.,  12.,   5.,   7.,  18.,   7.,  15.,\n",
       "       182.,  nan,  nan,  nan,   6.,  15.,  23.,  45.,  32.,  41.,  43.,\n",
       "        16.,  19.,  67., 498.,  65.,  41.,  30.,   0.,  25.,  28., 101.,\n",
       "        16.,  19.,  43.,  64.,  34.,  10.,  14.,  11.,  93.,  11.,   6.,\n",
       "        74.,   0.,  64.,   7.,  10.])"
      ]
     },
     "execution_count": 188,
     "metadata": {},
     "output_type": "execute_result"
    }
   ],
   "source": [
    "merged['2016 Number of Coffee Shops'].values"
   ]
  },
  {
   "cell_type": "code",
   "execution_count": 189,
   "metadata": {},
   "outputs": [],
   "source": [
    "merged;"
   ]
  },
  {
   "cell_type": "code",
   "execution_count": 190,
   "metadata": {},
   "outputs": [
    {
     "data": {
      "text/plain": [
       "'/opt/anaconda3/lib/python3.7/site-packages/geopandas/datasets/naturalearth_cities/naturalearth_cities.shp'"
      ]
     },
     "execution_count": 190,
     "metadata": {},
     "output_type": "execute_result"
    }
   ],
   "source": [
    "gpd.datasets.get_path('naturalearth_cities')"
   ]
  },
  {
   "cell_type": "markdown",
   "metadata": {},
   "source": [
    "## Convert geojson to shapefile b/c the marker only seems to work with shp files.."
   ]
  },
  {
   "cell_type": "code",
   "execution_count": 191,
   "metadata": {},
   "outputs": [
    {
     "ename": "ModuleNotFoundError",
     "evalue": "No module named 'geojson'",
     "output_type": "error",
     "traceback": [
      "\u001b[0;31m---------------------------------------------------------------------------\u001b[0m",
      "\u001b[0;31mModuleNotFoundError\u001b[0m                       Traceback (most recent call last)",
      "\u001b[0;32m<ipython-input-191-5f1fa40e6a17>\u001b[0m in \u001b[0;36m<module>\u001b[0;34m\u001b[0m\n\u001b[1;32m      1\u001b[0m \u001b[0;31m# https://stackoverflow.com/questions/44049679/geojson-to-shapefile-using-python\u001b[0m\u001b[0;34m\u001b[0m\u001b[0;34m\u001b[0m\u001b[0;34m\u001b[0m\u001b[0m\n\u001b[0;32m----> 2\u001b[0;31m \u001b[0;32mimport\u001b[0m \u001b[0murllib\u001b[0m\u001b[0;34m,\u001b[0m \u001b[0mgeojson\u001b[0m\u001b[0;34m,\u001b[0m \u001b[0mgdal\u001b[0m\u001b[0;34m,\u001b[0m \u001b[0msubprocess\u001b[0m\u001b[0;34m\u001b[0m\u001b[0;34m\u001b[0m\u001b[0m\n\u001b[0m\u001b[1;32m      3\u001b[0m \u001b[0;31m# url= ' http://ig3is.grid.unep.ch/istsos/wa/istsos/services/ghg/procedures/operations/geojson?epsg=4326'\u001b[0m\u001b[0;34m\u001b[0m\u001b[0;34m\u001b[0m\u001b[0;34m\u001b[0m\u001b[0m\n\u001b[1;32m      4\u001b[0m \u001b[0;31m# response = urllib.urlopen(url)\u001b[0m\u001b[0;34m\u001b[0m\u001b[0;34m\u001b[0m\u001b[0;34m\u001b[0m\u001b[0m\n\u001b[1;32m      5\u001b[0m \u001b[0;31m# data = geojson.loads(response.read())\u001b[0m\u001b[0;34m\u001b[0m\u001b[0;34m\u001b[0m\u001b[0;34m\u001b[0m\u001b[0m\n",
      "\u001b[0;31mModuleNotFoundError\u001b[0m: No module named 'geojson'"
     ]
    }
   ],
   "source": [
    "# https://stackoverflow.com/questions/44049679/geojson-to-shapefile-using-python\n",
    "import urllib, geojson, gdal, subprocess\n",
    "# url= ' http://ig3is.grid.unep.ch/istsos/wa/istsos/services/ghg/procedures/operations/geojson?epsg=4326'\n",
    "# response = urllib.urlopen(url)\n",
    "# data = geojson.loads(response.read())\n",
    "\n",
    "with open('skorea-municipalities-2018-geo.json', 'w') as f:\n",
    "    geojson.dump(sk_muni, f)\n",
    "\n",
    "args = ['ogr2ogr', '-f', 'ESRI Shapefile', 'sk_muni.shp', 'skorea-municipalities-2018-geo.json']\n",
    "subprocess.Popen(args)"
   ]
  },
  {
   "cell_type": "code",
   "execution_count": 192,
   "metadata": {},
   "outputs": [
    {
     "ename": "DriverError",
     "evalue": "sk_muni.shp: No such file or directory",
     "output_type": "error",
     "traceback": [
      "\u001b[0;31m---------------------------------------------------------------------------\u001b[0m",
      "\u001b[0;31mCPLE_OpenFailedError\u001b[0m                      Traceback (most recent call last)",
      "\u001b[0;32mfiona/_shim.pyx\u001b[0m in \u001b[0;36mfiona._shim.gdal_open_vector\u001b[0;34m()\u001b[0m\n",
      "\u001b[0;32mfiona/_err.pyx\u001b[0m in \u001b[0;36mfiona._err.exc_wrap_pointer\u001b[0;34m()\u001b[0m\n",
      "\u001b[0;31mCPLE_OpenFailedError\u001b[0m: sk_muni.shp: No such file or directory",
      "\nDuring handling of the above exception, another exception occurred:\n",
      "\u001b[0;31mDriverError\u001b[0m                               Traceback (most recent call last)",
      "\u001b[0;32m<ipython-input-192-af4e8c3fe6ea>\u001b[0m in \u001b[0;36m<module>\u001b[0;34m\u001b[0m\n\u001b[0;32m----> 1\u001b[0;31m \u001b[0msk_m\u001b[0m \u001b[0;34m=\u001b[0m \u001b[0mgpd\u001b[0m\u001b[0;34m.\u001b[0m\u001b[0mread_file\u001b[0m\u001b[0;34m(\u001b[0m\u001b[0;34m'sk_muni.shp'\u001b[0m\u001b[0;34m)\u001b[0m \u001b[0;31m# this doesn't work when used like the example below. not sure why\u001b[0m\u001b[0;34m\u001b[0m\u001b[0;34m\u001b[0m\u001b[0m\n\u001b[0m",
      "\u001b[0;32m/opt/anaconda3/lib/python3.7/site-packages/geopandas/io/file.py\u001b[0m in \u001b[0;36mread_file\u001b[0;34m(filename, bbox, mask, rows, **kwargs)\u001b[0m\n\u001b[1;32m     87\u001b[0m \u001b[0;34m\u001b[0m\u001b[0m\n\u001b[1;32m     88\u001b[0m     \u001b[0;32mwith\u001b[0m \u001b[0mfiona_env\u001b[0m\u001b[0;34m(\u001b[0m\u001b[0;34m)\u001b[0m\u001b[0;34m:\u001b[0m\u001b[0;34m\u001b[0m\u001b[0;34m\u001b[0m\u001b[0m\n\u001b[0;32m---> 89\u001b[0;31m         \u001b[0;32mwith\u001b[0m \u001b[0mreader\u001b[0m\u001b[0;34m(\u001b[0m\u001b[0mpath_or_bytes\u001b[0m\u001b[0;34m,\u001b[0m \u001b[0;34m**\u001b[0m\u001b[0mkwargs\u001b[0m\u001b[0;34m)\u001b[0m \u001b[0;32mas\u001b[0m \u001b[0mfeatures\u001b[0m\u001b[0;34m:\u001b[0m\u001b[0;34m\u001b[0m\u001b[0;34m\u001b[0m\u001b[0m\n\u001b[0m\u001b[1;32m     90\u001b[0m \u001b[0;34m\u001b[0m\u001b[0m\n\u001b[1;32m     91\u001b[0m             \u001b[0;31m# In a future Fiona release the crs attribute of features will\u001b[0m\u001b[0;34m\u001b[0m\u001b[0;34m\u001b[0m\u001b[0;34m\u001b[0m\u001b[0m\n",
      "\u001b[0;32m/opt/anaconda3/lib/python3.7/site-packages/fiona/env.py\u001b[0m in \u001b[0;36mwrapper\u001b[0;34m(*args, **kwargs)\u001b[0m\n\u001b[1;32m    396\u001b[0m     \u001b[0;32mdef\u001b[0m \u001b[0mwrapper\u001b[0m\u001b[0;34m(\u001b[0m\u001b[0;34m*\u001b[0m\u001b[0margs\u001b[0m\u001b[0;34m,\u001b[0m \u001b[0;34m**\u001b[0m\u001b[0mkwargs\u001b[0m\u001b[0;34m)\u001b[0m\u001b[0;34m:\u001b[0m\u001b[0;34m\u001b[0m\u001b[0;34m\u001b[0m\u001b[0m\n\u001b[1;32m    397\u001b[0m         \u001b[0;32mif\u001b[0m \u001b[0mlocal\u001b[0m\u001b[0;34m.\u001b[0m\u001b[0m_env\u001b[0m\u001b[0;34m:\u001b[0m\u001b[0;34m\u001b[0m\u001b[0;34m\u001b[0m\u001b[0m\n\u001b[0;32m--> 398\u001b[0;31m             \u001b[0;32mreturn\u001b[0m \u001b[0mf\u001b[0m\u001b[0;34m(\u001b[0m\u001b[0;34m*\u001b[0m\u001b[0margs\u001b[0m\u001b[0;34m,\u001b[0m \u001b[0;34m**\u001b[0m\u001b[0mkwargs\u001b[0m\u001b[0;34m)\u001b[0m\u001b[0;34m\u001b[0m\u001b[0;34m\u001b[0m\u001b[0m\n\u001b[0m\u001b[1;32m    399\u001b[0m         \u001b[0;32melse\u001b[0m\u001b[0;34m:\u001b[0m\u001b[0;34m\u001b[0m\u001b[0;34m\u001b[0m\u001b[0m\n\u001b[1;32m    400\u001b[0m             \u001b[0;32mif\u001b[0m \u001b[0misinstance\u001b[0m\u001b[0;34m(\u001b[0m\u001b[0margs\u001b[0m\u001b[0;34m[\u001b[0m\u001b[0;36m0\u001b[0m\u001b[0;34m]\u001b[0m\u001b[0;34m,\u001b[0m \u001b[0mstr\u001b[0m\u001b[0;34m)\u001b[0m\u001b[0;34m:\u001b[0m\u001b[0;34m\u001b[0m\u001b[0;34m\u001b[0m\u001b[0m\n",
      "\u001b[0;32m/opt/anaconda3/lib/python3.7/site-packages/fiona/__init__.py\u001b[0m in \u001b[0;36mopen\u001b[0;34m(fp, mode, driver, schema, crs, encoding, layer, vfs, enabled_drivers, crs_wkt, **kwargs)\u001b[0m\n\u001b[1;32m    252\u001b[0m         \u001b[0;32mif\u001b[0m \u001b[0mmode\u001b[0m \u001b[0;32min\u001b[0m \u001b[0;34m(\u001b[0m\u001b[0;34m'a'\u001b[0m\u001b[0;34m,\u001b[0m \u001b[0;34m'r'\u001b[0m\u001b[0;34m)\u001b[0m\u001b[0;34m:\u001b[0m\u001b[0;34m\u001b[0m\u001b[0;34m\u001b[0m\u001b[0m\n\u001b[1;32m    253\u001b[0m             c = Collection(path, mode, driver=driver, encoding=encoding,\n\u001b[0;32m--> 254\u001b[0;31m                            layer=layer, enabled_drivers=enabled_drivers, **kwargs)\n\u001b[0m\u001b[1;32m    255\u001b[0m         \u001b[0;32melif\u001b[0m \u001b[0mmode\u001b[0m \u001b[0;34m==\u001b[0m \u001b[0;34m'w'\u001b[0m\u001b[0;34m:\u001b[0m\u001b[0;34m\u001b[0m\u001b[0;34m\u001b[0m\u001b[0m\n\u001b[1;32m    256\u001b[0m             \u001b[0;32mif\u001b[0m \u001b[0mschema\u001b[0m\u001b[0;34m:\u001b[0m\u001b[0;34m\u001b[0m\u001b[0;34m\u001b[0m\u001b[0m\n",
      "\u001b[0;32m/opt/anaconda3/lib/python3.7/site-packages/fiona/collection.py\u001b[0m in \u001b[0;36m__init__\u001b[0;34m(self, path, mode, driver, schema, crs, encoding, layer, vsi, archive, enabled_drivers, crs_wkt, ignore_fields, ignore_geometry, **kwargs)\u001b[0m\n\u001b[1;32m    152\u001b[0m             \u001b[0;32mif\u001b[0m \u001b[0mself\u001b[0m\u001b[0;34m.\u001b[0m\u001b[0mmode\u001b[0m \u001b[0;34m==\u001b[0m \u001b[0;34m'r'\u001b[0m\u001b[0;34m:\u001b[0m\u001b[0;34m\u001b[0m\u001b[0;34m\u001b[0m\u001b[0m\n\u001b[1;32m    153\u001b[0m                 \u001b[0mself\u001b[0m\u001b[0;34m.\u001b[0m\u001b[0msession\u001b[0m \u001b[0;34m=\u001b[0m \u001b[0mSession\u001b[0m\u001b[0;34m(\u001b[0m\u001b[0;34m)\u001b[0m\u001b[0;34m\u001b[0m\u001b[0;34m\u001b[0m\u001b[0m\n\u001b[0;32m--> 154\u001b[0;31m                 \u001b[0mself\u001b[0m\u001b[0;34m.\u001b[0m\u001b[0msession\u001b[0m\u001b[0;34m.\u001b[0m\u001b[0mstart\u001b[0m\u001b[0;34m(\u001b[0m\u001b[0mself\u001b[0m\u001b[0;34m,\u001b[0m \u001b[0;34m**\u001b[0m\u001b[0mkwargs\u001b[0m\u001b[0;34m)\u001b[0m\u001b[0;34m\u001b[0m\u001b[0;34m\u001b[0m\u001b[0m\n\u001b[0m\u001b[1;32m    155\u001b[0m             \u001b[0;32melif\u001b[0m \u001b[0mself\u001b[0m\u001b[0;34m.\u001b[0m\u001b[0mmode\u001b[0m \u001b[0;32min\u001b[0m \u001b[0;34m(\u001b[0m\u001b[0;34m'a'\u001b[0m\u001b[0;34m,\u001b[0m \u001b[0;34m'w'\u001b[0m\u001b[0;34m)\u001b[0m\u001b[0;34m:\u001b[0m\u001b[0;34m\u001b[0m\u001b[0;34m\u001b[0m\u001b[0m\n\u001b[1;32m    156\u001b[0m                 \u001b[0mself\u001b[0m\u001b[0;34m.\u001b[0m\u001b[0msession\u001b[0m \u001b[0;34m=\u001b[0m \u001b[0mWritingSession\u001b[0m\u001b[0;34m(\u001b[0m\u001b[0;34m)\u001b[0m\u001b[0;34m\u001b[0m\u001b[0;34m\u001b[0m\u001b[0m\n",
      "\u001b[0;32mfiona/ogrext.pyx\u001b[0m in \u001b[0;36mfiona.ogrext.Session.start\u001b[0;34m()\u001b[0m\n",
      "\u001b[0;32mfiona/_shim.pyx\u001b[0m in \u001b[0;36mfiona._shim.gdal_open_vector\u001b[0;34m()\u001b[0m\n",
      "\u001b[0;31mDriverError\u001b[0m: sk_muni.shp: No such file or directory"
     ]
    }
   ],
   "source": [
    "sk_m = gpd.read_file('sk_muni.shp') # this doesn't work when used like the example below. not sure why"
   ]
  },
  {
   "cell_type": "code",
   "execution_count": 193,
   "metadata": {},
   "outputs": [
    {
     "data": {
      "image/png": "[encoded data removed]",
      "text/plain": [
       "<Figure size 432x288 with 1 Axes>"
      ]
     },
     "metadata": {
      "needs_background": "light"
     },
     "output_type": "display_data"
    }
   ],
   "source": [
    "#https://gis.stackexchange.com/questions/241612/change-marker-size-in-plot-with-geopandas\n",
    "world = gpd.read_file(gpd.datasets.get_path('naturalearth_lowres'))\n",
    "cities = gpd.read_file(gpd.datasets.get_path('naturalearth_cities'))\n",
    "#type(world)\n",
    "cities.plot(marker='*', color='green', markersize=5);\n",
    "#base = copy.plot(marker = 'o', markersize = 100, color = 'pink')"
   ]
  },
  {
   "cell_type": "code",
   "execution_count": 194,
   "metadata": {},
   "outputs": [],
   "source": [
    "copy.plot?"
   ]
  },
  {
   "cell_type": "markdown",
   "metadata": {},
   "source": [
    "# Extract Lat and Lon"
   ]
  },
  {
   "cell_type": "code",
   "execution_count": 195,
   "metadata": {},
   "outputs": [
    {
     "data": {
      "text/plain": [
       "array([127.02781811, 127.02958484, 127.04061043, 127.04549871,\n",
       "       127.03608765, 127.02962976, 127.0338966 , 127.0252507 ,\n",
       "       127.01995905, 127.02420022, 127.02048657, 127.04233516,\n",
       "       127.04368195, 127.05534959, 127.05814642, 127.06420975,\n",
       "       127.05757915, 126.95272984, 126.95801578, 126.94914859,\n",
       "       126.94217267, 126.94142115, 126.94750642, 126.93479638,\n",
       "       126.92612134, 126.92107063, 126.90912049, 126.89976714,\n",
       "       126.90025202, 126.92151352, 126.911856  , 126.90191712,\n",
       "       126.87989888, 126.98045252, 126.98506975, 126.97489727,\n",
       "       126.96688098, 126.96662317, 126.95247442, 126.96087823,\n",
       "       126.95843786, 126.96861953, 126.97170597, 126.95419482,\n",
       "       126.99314564, 126.99205969, 127.00513582, 126.98900887,\n",
       "       127.00077071])"
      ]
     },
     "execution_count": 195,
     "metadata": {},
     "output_type": "execute_result"
    }
   ],
   "source": [
    "g_merged[\"geometry\"].centroid.x.values"
   ]
  },
  {
   "cell_type": "code",
   "execution_count": 196,
   "metadata": {},
   "outputs": [
    {
     "data": {
      "text/plain": [
       "array([  9.,  31.,  17.,  59.,  30.,  12.,   5.,   7.,  18.,   7.,  15.,\n",
       "       182.,  nan,  nan,  nan,   6.,  15.,  23.,  45.,  32.,  41.,  43.,\n",
       "        16.,  19.,  67., 498.,  65.,  41.,  30.,   0.,  25.,  28., 101.,\n",
       "        16.,  19.,  43.,  64.,  34.,  10.,  14.,  11.,  93.,  11.,   6.,\n",
       "        74.,   0.,  64.,   7.,  10.])"
      ]
     },
     "execution_count": 196,
     "metadata": {},
     "output_type": "execute_result"
    }
   ],
   "source": [
    "g_merged['2016 Number of Coffee Shops'].values"
   ]
  },
  {
   "cell_type": "code",
   "execution_count": 197,
   "metadata": {},
   "outputs": [],
   "source": [
    "g_merged_copy = g_merged.reset_index()"
   ]
  },
  {
   "cell_type": "markdown",
   "metadata": {},
   "source": [
    "# Bubble Map for 2016"
   ]
  },
  {
   "cell_type": "code",
   "execution_count": null,
   "metadata": {},
   "outputs": [],
   "source": [
    "base = seoul_.plot(color='lightgrey', linewidth=0.5, edgecolor='black', figsize=(15,5))\n",
    "\n",
    "copy.plot(color = 'lightgrey', edgecolor = 'black', ax=base, \n",
    "            markersize=g_merged_copy['2016 Number of Coffee Shops'])\n",
    "case_study.plot(ax = base, facecolor=\"lime\", edgecolor = 'lime', linewidth = 0.5)\n",
    "\n",
    "\n",
    "i = 0\n",
    "for lat, lon in zip(g_merged_copy['geometry'].centroid.x.values, g_merged_copy['geometry'].centroid.y.values):\n",
    "    num = g_merged_copy['2016 Number of Coffee Shops'][i]\n",
    "    base.scatter([lat], [lon], c='#f075e6', edgecolor=None, alpha=1, s=num)\n",
    "    i = i + 1\n",
    "\n",
    "plt.axis('off')"
   ]
  },
  {
   "cell_type": "markdown",
   "metadata": {},
   "source": [
    "# Bubble Map for 2019"
   ]
  },
  {
   "cell_type": "code",
   "execution_count": 203,
   "metadata": {},
   "outputs": [],
   "source": [
    "g_merged_copy;"
   ]
  },
  {
   "cell_type": "code",
   "execution_count": 204,
   "metadata": {
    "scrolled": true
   },
   "outputs": [
    {
     "data": {
      "text/plain": [
       "(126.84262314641533, 127.08474112160337, 37.50230626992101, 37.59500606020084)"
      ]
     },
     "execution_count": 204,
     "metadata": {},
     "output_type": "execute_result"
    },
    {
     "data": {
      "image/png": "[encoded data removed]",
      "text/plain": [
       "<Figure size 1080x360 with 1 Axes>"
      ]
     },
     "metadata": {
      "needs_background": "light"
     },
     "output_type": "display_data"
    }
   ],
   "source": [
    "base = seoul_.plot(color='lightgrey', linewidth=0.5, edgecolor='black', figsize=(15,5))\n",
    "\n",
    "copy.plot(color = 'white', edgecolor = 'black', ax=base, \n",
    "            markersize=g_merged_copy['2019 Number of Coffee Shops'])\n",
    "case_study.plot(ax = base, facecolor=\"lime\", edgecolor = 'lime', linewidth = .9)\n",
    "\n",
    "\n",
    "i = 0\n",
    "for lat, lon in zip(g_merged_copy['geometry'].centroid.x.values, g_merged_copy['geometry'].centroid.y.values):\n",
    "    num = g_merged_copy['2019 Number of Coffee Shops'][i]\n",
    "    base.scatter([lat], [lon], c='#f075e6', edgecolor=None, alpha=1, s=num)\n",
    "    i = i + 1\n",
    "\n",
    "plt.axis('off')"
   ]
  },
  {
   "cell_type": "markdown",
   "metadata": {},
   "source": [
    "# Archived "
   ]
  },
  {
   "cell_type": "markdown",
   "metadata": {},
   "source": [
    "### Clean up seoul_data "
   ]
  },
  {
   "cell_type": "code",
   "execution_count": null,
   "metadata": {
    "scrolled": true
   },
   "outputs": [],
   "source": [
    "seoul_data = seoul_data.dropna(axis=0, thresh=62).dropna(axis=1, thresh=26)\n",
    "seoul_data"
   ]
  },
  {
   "cell_type": "markdown",
   "metadata": {},
   "source": [
    "#### Slice codes"
   ]
  },
  {
   "cell_type": "code",
   "execution_count": null,
   "metadata": {},
   "outputs": [],
   "source": [
    "sk_submuni['muni'] = sk_submuni['code'].str[:5]\n",
    "sk_muni['prov'] = sk_muni['code'].str[:2]"
   ]
  },
  {
   "cell_type": "markdown",
   "metadata": {},
   "source": [
    "#### Duplicate as test dfs"
   ]
  },
  {
   "cell_type": "code",
   "execution_count": null,
   "metadata": {},
   "outputs": [],
   "source": [
    "sk_submuni_test = sk_submuni\n",
    "sk_muni_test = sk_muni\n",
    "sk_prov_test = sk_province\n",
    "seoul_data_test = seoul_data"
   ]
  },
  {
   "cell_type": "markdown",
   "metadata": {},
   "source": [
    "#### Drop columns"
   ]
  },
  {
   "cell_type": "code",
   "execution_count": null,
   "metadata": {},
   "outputs": [],
   "source": [
    "sk_submuni_test = sk_submuni_test.drop(columns=['base_year', 'name'])\n",
    "sk_muni_test = sk_muni_test.drop(columns=['geometry', 'base_year', 'name'])\n",
    "sk_prov_test = sk_prov_test.drop(columns=['geometry', 'base_year', 'name'])"
   ]
  },
  {
   "cell_type": "markdown",
   "metadata": {},
   "source": [
    "#### Merge data using codes"
   ]
  },
  {
   "cell_type": "code",
   "execution_count": null,
   "metadata": {},
   "outputs": [],
   "source": [
    "merged = pd.merge(sk_muni_test, sk_submuni_test, how='right', left_on=['code'], right_on=['muni'])"
   ]
  },
  {
   "cell_type": "markdown",
   "metadata": {},
   "source": [
    "#### Merge sk_province and clean up df"
   ]
  },
  {
   "cell_type": "code",
   "execution_count": null,
   "metadata": {},
   "outputs": [],
   "source": [
    "merged = pd.merge(sk_prov_test, merged, how='right', left_on=['code'], right_on=['prov'])\n",
    "merged = merged.rename(columns={'name_eng':'province', 'name_eng_x':'municipalities', 'name_eng_y':'submunicipalities', \n",
    "                       'code':'prov_code', 'code_x':'muni_code', 'code_y': 'sub_code'})\n",
    "                                #'geometry':'geometry_p', 'geometry_x':'geometry_sub', 'geometry_y':'geometry'})\n",
    "merged = merged.drop(columns=['prov', 'muni'])\n",
    "merged"
   ]
  },
  {
   "cell_type": "markdown",
   "metadata": {},
   "source": [
    "#### Merge seoul data"
   ]
  },
  {
   "cell_type": "code",
   "execution_count": null,
   "metadata": {
    "scrolled": true
   },
   "outputs": [],
   "source": [
    "merged_seoul_data = pd.merge(sk_muni_test, seoul_data_test, left_on=['name_eng'], right_on=['Districts']).dropna()\n",
    "merged_seoul_data"
   ]
  },
  {
   "cell_type": "code",
   "execution_count": null,
   "metadata": {
    "scrolled": true
   },
   "outputs": [],
   "source": [
    "seoul = merged[merged['province']=='Seoul'] #filtered merged by Seoul\n",
    "# Has len 409...?\n",
    "map_data = pd.merge(seoul, seoul_data_test, left_on=['municipalities'], right_on=['Districts']).drop(columns=['Districts'])\n",
    "map_data = map_data.rename(columns={'Q2-18 Business Openings': 'Openings'})\n",
    "map_data\n",
    "# Has len 504...?\n",
    "# merged_seoul_data = merged_seoul_data.drop(columns='geometry')\n",
    "# map_data = pd.merge(seoul, merged_seoul_data, left_on=['municipalities'], right_on=['name_eng'])\n",
    "# map_data = map_data.rename(columns={'Q2-18 Business Openings': 'Openings'})\n",
    "# map_data"
   ]
  },
  {
   "cell_type": "markdown",
   "metadata": {},
   "source": [
    "## Bokeh"
   ]
  },
  {
   "cell_type": "code",
   "execution_count": null,
   "metadata": {},
   "outputs": [],
   "source": [
    "import json\n",
    "from bokeh.io import show\n",
    "from bokeh.io import output_notebook\n",
    "from bokeh.models import (CDSView, ColorBar, ColumnDataSource,\n",
    "                          CustomJS, CustomJSFilter, \n",
    "                          GeoJSONDataSource, HoverTool,\n",
    "                          LinearColorMapper, Slider)\n",
    "from bokeh.layouts import column, row, widgetbox\n",
    "from bokeh.palettes import brewer\n",
    "from bokeh.plotting import figure"
   ]
  },
  {
   "cell_type": "code",
   "execution_count": null,
   "metadata": {},
   "outputs": [],
   "source": [
    "output_notebook()"
   ]
  },
  {
   "cell_type": "markdown",
   "metadata": {},
   "source": [
    "### Seoul Business Openings\n",
    "* Outlines show submunicipalities but hovering shows the name of municipalities\n",
    "* Spaces missing outlines?\n",
    "* How to place patches ontop of patches?"
   ]
  },
  {
   "cell_type": "code",
   "execution_count": null,
   "metadata": {},
   "outputs": [],
   "source": [
    "# Input GeoJSON source that contains features for plotting\n",
    "seoul_source = GeoJSONDataSource(geojson = map_data.to_json())"
   ]
  },
  {
   "cell_type": "code",
   "execution_count": null,
   "metadata": {},
   "outputs": [],
   "source": [
    "# Create figure object.\n",
    "p = figure(title = 'Map', \n",
    "           plot_height = 600 ,\n",
    "           plot_width = 950, \n",
    "           toolbar_location = 'below',\n",
    "           tools = 'pan, wheel_zoom, box_zoom, reset')\n",
    "p.xgrid.grid_line_color = None\n",
    "p.ygrid.grid_line_color = None\n",
    "# Add patch renderer to figure.\n",
    "seoul_submuni = p.patches('xs','ys', source = seoul_source,\n",
    "                   fill_color = None,\n",
    "                   line_color = 'gray', \n",
    "                   line_width = 0.1, \n",
    "                   fill_alpha = 1)\n",
    "# Create hover tool\n",
    "p.add_tools(HoverTool(renderers = [seoul_submuni],\n",
    "                      tooltips = [('Municipalities','@municipalities'),('Submunicipalities','@submunicipalities'),\n",
    "                               ('Business Openings', '@Openings')]))\n",
    "show(p)"
   ]
  },
  {
   "cell_type": "markdown",
   "metadata": {},
   "source": [
    "### Submunicipalities"
   ]
  },
  {
   "cell_type": "code",
   "execution_count": null,
   "metadata": {},
   "outputs": [],
   "source": [
    "# Input GeoJSON source that contains features for plotting\n",
    "sk_source = GeoJSONDataSource(geojson = merged.to_json())"
   ]
  },
  {
   "cell_type": "code",
   "execution_count": null,
   "metadata": {
    "scrolled": false
   },
   "outputs": [],
   "source": [
    "# Create figure object.\n",
    "p = figure(title = 'Map', \n",
    "           plot_height = 600 ,\n",
    "           plot_width = 950, \n",
    "           toolbar_location = 'below',\n",
    "           tools = 'pan, wheel_zoom, box_zoom, reset')\n",
    "p.xgrid.grid_line_color = None\n",
    "p.ygrid.grid_line_color = None\n",
    "# Add patch renderer to figure.\n",
    "seoul_submuni = p.patches('xs','ys', source = sk_source,\n",
    "                   fill_color = None,\n",
    "                   line_color = 'gray', \n",
    "                   line_width = 0.1, \n",
    "                   fill_alpha = 1)\n",
    "# Create hover tool\n",
    "p.add_tools(HoverTool(renderers = [seoul_submuni],\n",
    "                      tooltips = [('Submunicipalities','@submunicipalities')]))\n",
    "show(p)"
   ]
  }
 ],
 "metadata": {
  "kernelspec": {
   "display_name": "Python 3",
   "language": "python",
   "name": "python3"
  },
  "language_info": {
   "codemirror_mode": {
    "name": "ipython",
    "version": 3
   },
   "file_extension": ".py",
   "mimetype": "text/x-python",
   "name": "python",
   "nbconvert_exporter": "python",
   "pygments_lexer": "ipython3",
   "version": "3.7.4"
  }
 },
 "nbformat": 4,
 "nbformat_minor": 2
}
